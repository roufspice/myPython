{
 "cells": [
  {
   "cell_type": "markdown",
   "metadata": {},
   "source": [
    "from matplotlib import font_manager\n",
    "font_fname = \"C:\\\\Users\\\\acorn-516\\\\Desktop\\\\jupyter\\\\font\\\\gulim.ttp\"\n",
    "font_family = font_manager.FontProperties(fname=font_fname).get_name()\n",
    "plt.rcParams[\"font.family\"] = font_family\n",
    "print(font_family)"
   ]
  },
  {
   "cell_type": "code",
   "execution_count": 1,
   "metadata": {
    "scrolled": true
   },
   "outputs": [
    {
     "name": "stdout",
     "output_type": "stream",
     "text": [
      "Gulim\n"
     ]
    }
   ],
   "source": [
    "%matplotlib inline\n",
    "import pandas as pd\n",
    "import numpy as np\n",
    "import seaborn as sns\n",
    "import matplotlib.pyplot as plt\n",
    "import matplotlib\n",
    "\n",
    "from matplotlib import font_manager\n",
    "font_fname = \"C:\\\\Windows\\\\Fonts\\\\gulim.ttc\"\n",
    "font_family = font_manager.FontProperties(fname=font_fname).get_name()\n",
    "plt.rcParams[\"font.family\"] = font_family\n",
    "print(font_family)\n"
   ]
  },
  {
   "cell_type": "code",
   "execution_count": 2,
   "metadata": {},
   "outputs": [
    {
     "name": "stdout",
     "output_type": "stream",
     "text": [
      "<class 'pandas.core.frame.DataFrame'>\n",
      "RangeIndex: 7058 entries, 0 to 7057\n",
      "Data columns (total 15 columns):\n",
      " #   Column        Non-Null Count  Dtype \n",
      "---  ------        --------------  ----- \n",
      " 0   Unnamed: 0    7058 non-null   int64 \n",
      " 1   Unnamed: 0.1  7058 non-null   int64 \n",
      " 2   coIndx        7058 non-null   int64 \n",
      " 3   category      7058 non-null   object\n",
      " 4   city          7058 non-null   object\n",
      " 5   region        7058 non-null   object\n",
      " 6   coNm          7058 non-null   object\n",
      " 7   title         7058 non-null   object\n",
      " 8   career        7058 non-null   object\n",
      " 9   education     7058 non-null   object\n",
      " 10  contract      7058 non-null   object\n",
      " 11  r_date        7058 non-null   object\n",
      " 12  coID          7058 non-null   int64 \n",
      " 13  salary        7058 non-null   object\n",
      " 14  addr          6689 non-null   object\n",
      "dtypes: int64(4), object(11)\n",
      "memory usage: 827.2+ KB\n"
     ]
    }
   ],
   "source": [
    "df = pd.read_csv(\"df_tot_08.csv\")\n",
    "df.info()\n",
    "df=df.drop(\"Unnamed: 0.1\",axis=1)\n"
   ]
  },
  {
   "cell_type": "code",
   "execution_count": 3,
   "metadata": {},
   "outputs": [
    {
     "name": "stdout",
     "output_type": "stream",
     "text": [
      "<class 'pandas.core.frame.DataFrame'>\n",
      "RangeIndex: 7058 entries, 0 to 7057\n",
      "Data columns (total 14 columns):\n",
      " #   Column      Non-Null Count  Dtype \n",
      "---  ------      --------------  ----- \n",
      " 0   Unnamed: 0  7058 non-null   int64 \n",
      " 1   coIndx      7058 non-null   int64 \n",
      " 2   category    7058 non-null   object\n",
      " 3   city        7058 non-null   object\n",
      " 4   region      7058 non-null   object\n",
      " 5   coNm        7058 non-null   object\n",
      " 6   title       7058 non-null   object\n",
      " 7   career      7058 non-null   object\n",
      " 8   education   7058 non-null   object\n",
      " 9   contract    7058 non-null   object\n",
      " 10  r_date      7058 non-null   object\n",
      " 11  coID        7058 non-null   int64 \n",
      " 12  salary      7058 non-null   object\n",
      " 13  addr        6689 non-null   object\n",
      "dtypes: int64(3), object(11)\n",
      "memory usage: 772.1+ KB\n"
     ]
    }
   ],
   "source": [
    "df.info()\n",
    "df=df.drop(\"Unnamed: 0\",axis=1)"
   ]
  },
  {
   "cell_type": "code",
   "execution_count": 4,
   "metadata": {},
   "outputs": [
    {
     "name": "stdout",
     "output_type": "stream",
     "text": [
      "<class 'pandas.core.frame.DataFrame'>\n",
      "RangeIndex: 7058 entries, 0 to 7057\n",
      "Data columns (total 13 columns):\n",
      " #   Column     Non-Null Count  Dtype \n",
      "---  ------     --------------  ----- \n",
      " 0   coIndx     7058 non-null   int64 \n",
      " 1   category   7058 non-null   object\n",
      " 2   city       7058 non-null   object\n",
      " 3   region     7058 non-null   object\n",
      " 4   coNm       7058 non-null   object\n",
      " 5   title      7058 non-null   object\n",
      " 6   career     7058 non-null   object\n",
      " 7   education  7058 non-null   object\n",
      " 8   contract   7058 non-null   object\n",
      " 9   r_date     7058 non-null   object\n",
      " 10  coID       7058 non-null   int64 \n",
      " 11  salary     7058 non-null   object\n",
      " 12  addr       6689 non-null   object\n",
      "dtypes: int64(2), object(11)\n",
      "memory usage: 717.0+ KB\n"
     ]
    }
   ],
   "source": [
    "df.info()"
   ]
  },
  {
   "cell_type": "code",
   "execution_count": 5,
   "metadata": {},
   "outputs": [],
   "source": [
    "df=df.drop(\"addr\",axis=1)"
   ]
  },
  {
   "cell_type": "code",
   "execution_count": 6,
   "metadata": {},
   "outputs": [
    {
     "data": {
      "text/html": [
       "<div>\n",
       "<style scoped>\n",
       "    .dataframe tbody tr th:only-of-type {\n",
       "        vertical-align: middle;\n",
       "    }\n",
       "\n",
       "    .dataframe tbody tr th {\n",
       "        vertical-align: top;\n",
       "    }\n",
       "\n",
       "    .dataframe thead th {\n",
       "        text-align: right;\n",
       "    }\n",
       "</style>\n",
       "<table border=\"1\" class=\"dataframe\">\n",
       "  <thead>\n",
       "    <tr style=\"text-align: right;\">\n",
       "      <th></th>\n",
       "      <th>coIndx</th>\n",
       "      <th>category</th>\n",
       "      <th>city</th>\n",
       "      <th>region</th>\n",
       "      <th>coNm</th>\n",
       "      <th>title</th>\n",
       "      <th>career</th>\n",
       "      <th>education</th>\n",
       "      <th>contract</th>\n",
       "      <th>r_date</th>\n",
       "      <th>coID</th>\n",
       "      <th>salary</th>\n",
       "    </tr>\n",
       "  </thead>\n",
       "  <tbody>\n",
       "    <tr>\n",
       "      <th>0</th>\n",
       "      <td>38262896</td>\n",
       "      <td>데이터분석</td>\n",
       "      <td>서울</td>\n",
       "      <td>강남구</td>\n",
       "      <td>㈜인텔리코드</td>\n",
       "      <td>데이터분석개발정규직모집(신입,경력)</td>\n",
       "      <td>경력무관</td>\n",
       "      <td>대졸</td>\n",
       "      <td>정규직</td>\n",
       "      <td>0804</td>\n",
       "      <td>1428123607</td>\n",
       "      <td>3,803</td>\n",
       "    </tr>\n",
       "  </tbody>\n",
       "</table>\n",
       "</div>"
      ],
      "text/plain": [
       "     coIndx category city region    coNm                title career  \\\n",
       "0  38262896    데이터분석   서울    강남구  ㈜인텔리코드  데이터분석개발정규직모집(신입,경력)   경력무관   \n",
       "\n",
       "  education contract r_date        coID salary  \n",
       "0        대졸      정규직   0804  1428123607  3,803  "
      ]
     },
     "execution_count": 6,
     "metadata": {},
     "output_type": "execute_result"
    }
   ],
   "source": [
    "df.head(1)"
   ]
  },
  {
   "cell_type": "code",
   "execution_count": 7,
   "metadata": {},
   "outputs": [
    {
     "data": {
      "text/plain": [
       "데이터분석    2334\n",
       "데이터관리    2124\n",
       "인공지능     1450\n",
       "빅데이터     1150\n",
       "Name: category, dtype: int64"
      ]
     },
     "execution_count": 7,
     "metadata": {},
     "output_type": "execute_result"
    }
   ],
   "source": [
    "df[\"category\"].value_counts()\n",
    "#키워드별 데이터분석, 데이터관리, 인공지능, 빅데이터"
   ]
  },
  {
   "cell_type": "markdown",
   "metadata": {},
   "source": [
    "## 지역별 채용공고현황(수도권vs비수도권)"
   ]
  },
  {
   "cell_type": "code",
   "execution_count": 8,
   "metadata": {},
   "outputs": [
    {
     "data": {
      "text/html": [
       "<div>\n",
       "<style scoped>\n",
       "    .dataframe tbody tr th:only-of-type {\n",
       "        vertical-align: middle;\n",
       "    }\n",
       "\n",
       "    .dataframe tbody tr th {\n",
       "        vertical-align: top;\n",
       "    }\n",
       "\n",
       "    .dataframe thead th {\n",
       "        text-align: right;\n",
       "    }\n",
       "</style>\n",
       "<table border=\"1\" class=\"dataframe\">\n",
       "  <thead>\n",
       "    <tr style=\"text-align: right;\">\n",
       "      <th></th>\n",
       "      <th>coIndx</th>\n",
       "      <th>category</th>\n",
       "      <th>region</th>\n",
       "      <th>coNm</th>\n",
       "      <th>title</th>\n",
       "      <th>career</th>\n",
       "      <th>education</th>\n",
       "      <th>contract</th>\n",
       "      <th>r_date</th>\n",
       "      <th>coID</th>\n",
       "      <th>salary</th>\n",
       "    </tr>\n",
       "    <tr>\n",
       "      <th>city</th>\n",
       "      <th></th>\n",
       "      <th></th>\n",
       "      <th></th>\n",
       "      <th></th>\n",
       "      <th></th>\n",
       "      <th></th>\n",
       "      <th></th>\n",
       "      <th></th>\n",
       "      <th></th>\n",
       "      <th></th>\n",
       "      <th></th>\n",
       "    </tr>\n",
       "  </thead>\n",
       "  <tbody>\n",
       "    <tr>\n",
       "      <th>서울</th>\n",
       "      <td>4714</td>\n",
       "      <td>4714</td>\n",
       "      <td>4714</td>\n",
       "      <td>4714</td>\n",
       "      <td>4714</td>\n",
       "      <td>4714</td>\n",
       "      <td>4714</td>\n",
       "      <td>4714</td>\n",
       "      <td>4714</td>\n",
       "      <td>4714</td>\n",
       "      <td>4714</td>\n",
       "    </tr>\n",
       "    <tr>\n",
       "      <th>경기</th>\n",
       "      <td>1189</td>\n",
       "      <td>1189</td>\n",
       "      <td>1189</td>\n",
       "      <td>1189</td>\n",
       "      <td>1189</td>\n",
       "      <td>1189</td>\n",
       "      <td>1189</td>\n",
       "      <td>1189</td>\n",
       "      <td>1189</td>\n",
       "      <td>1189</td>\n",
       "      <td>1189</td>\n",
       "    </tr>\n",
       "    <tr>\n",
       "      <th>인천</th>\n",
       "      <td>178</td>\n",
       "      <td>178</td>\n",
       "      <td>178</td>\n",
       "      <td>178</td>\n",
       "      <td>178</td>\n",
       "      <td>178</td>\n",
       "      <td>178</td>\n",
       "      <td>178</td>\n",
       "      <td>178</td>\n",
       "      <td>178</td>\n",
       "      <td>178</td>\n",
       "    </tr>\n",
       "    <tr>\n",
       "      <th>부산</th>\n",
       "      <td>171</td>\n",
       "      <td>171</td>\n",
       "      <td>171</td>\n",
       "      <td>171</td>\n",
       "      <td>171</td>\n",
       "      <td>171</td>\n",
       "      <td>171</td>\n",
       "      <td>171</td>\n",
       "      <td>171</td>\n",
       "      <td>171</td>\n",
       "      <td>171</td>\n",
       "    </tr>\n",
       "    <tr>\n",
       "      <th>경남</th>\n",
       "      <td>169</td>\n",
       "      <td>169</td>\n",
       "      <td>169</td>\n",
       "      <td>169</td>\n",
       "      <td>169</td>\n",
       "      <td>169</td>\n",
       "      <td>169</td>\n",
       "      <td>169</td>\n",
       "      <td>169</td>\n",
       "      <td>169</td>\n",
       "      <td>169</td>\n",
       "    </tr>\n",
       "  </tbody>\n",
       "</table>\n",
       "</div>"
      ],
      "text/plain": [
       "      coIndx  category  region  coNm  title  career  education  contract  \\\n",
       "city                                                                       \n",
       "서울      4714      4714    4714  4714   4714    4714       4714      4714   \n",
       "경기      1189      1189    1189  1189   1189    1189       1189      1189   \n",
       "인천       178       178     178   178    178     178        178       178   \n",
       "부산       171       171     171   171    171     171        171       171   \n",
       "경남       169       169     169   169    169     169        169       169   \n",
       "\n",
       "      r_date  coID  salary  \n",
       "city                        \n",
       "서울      4714  4714    4714  \n",
       "경기      1189  1189    1189  \n",
       "인천       178   178     178  \n",
       "부산       171   171     171  \n",
       "경남       169   169     169  "
      ]
     },
     "execution_count": 8,
     "metadata": {},
     "output_type": "execute_result"
    }
   ],
   "source": [
    "df.groupby([\"city\"]).count().sort_values(by=[\"coNm\"],ascending=False).head(5)"
   ]
  },
  {
   "cell_type": "code",
   "execution_count": 9,
   "metadata": {},
   "outputs": [
    {
     "data": {
      "image/png": "[encoded data removed]",
      "text/plain": [
       "<Figure size 504x504 with 1 Axes>"
      ]
     },
     "metadata": {},
     "output_type": "display_data"
    }
   ],
   "source": [
    "sumOfSeoul=df[\"city\"].value_counts().values[0:3].sum() #서울,경기,인천\n",
    "nonOfSeoul=df[\"city\"].value_counts().values[3:].sum()\n",
    "\n",
    "values = [sumOfSeoul, nonOfSeoul]\n",
    "categories=[\"수도권\",\"비수도권\"]\n",
    "explode=[0.1,0]\n",
    "#그리기\n",
    "plt.figure(figsize=(7,7))\n",
    "plt.pie(values,\n",
    "       explode=explode,\n",
    "       labels=categories,\n",
    "       autopct=\"%1.1f%%\",\n",
    "       shadow=True,\n",
    "       startangle=0)\n",
    "plt.title(\"지역별 채용공고 현황(수도권/비수도권)\",color=\"black\",fontsize=15)\n",
    "plt.legend(categories,loc=2)\n",
    "plt.show()"
   ]
  },
  {
   "cell_type": "code",
   "execution_count": null,
   "metadata": {},
   "outputs": [],
   "source": []
  },
  {
   "cell_type": "code",
   "execution_count": null,
   "metadata": {},
   "outputs": [],
   "source": []
  },
  {
   "cell_type": "code",
   "execution_count": null,
   "metadata": {},
   "outputs": [],
   "source": []
  },
  {
   "cell_type": "markdown",
   "metadata": {},
   "source": [
    "###  키워드별 지역별로 채용공고수는 얼마인가!"
   ]
  },
  {
   "cell_type": "code",
   "execution_count": 10,
   "metadata": {
    "scrolled": true
   },
   "outputs": [
    {
     "data": {
      "image/png": "[encoded data removed]",
      "text/plain": [
       "<Figure size 504x504 with 1 Axes>"
      ]
     },
     "metadata": {},
     "output_type": "display_data"
    }
   ],
   "source": [
    "values = df[\"city\"].value_counts().values[0:3]\n",
    "#explode\n",
    "categories = [\"서울\",\"경기\",\"인천\"]\n",
    "explode = [0.1,0,0]\n",
    "#그리기\n",
    "plt.figure(figsize=(7,7))\n",
    "plt.pie(values,\n",
    "        explode= explode,\n",
    "        labels=df[\"city\"].value_counts().index[0:3],\n",
    "        autopct=\"%1.1f%%\",\n",
    "        shadow=True, \n",
    "        startangle=0)\n",
    "plt.title(\"지역별 채용공고 현황(수도권)\",color=\"black\",fontsize=15)\n",
    "plt.legend(categories,loc=2)\n",
    "plt.show()"
   ]
  },
  {
   "cell_type": "markdown",
   "metadata": {},
   "source": [
    "## 키워드별(데이터분석,데이터관리,인공지능,빅데이터)"
   ]
  },
  {
   "cell_type": "code",
   "execution_count": 11,
   "metadata": {},
   "outputs": [
    {
     "data": {
      "text/html": [
       "<div>\n",
       "<style scoped>\n",
       "    .dataframe tbody tr th:only-of-type {\n",
       "        vertical-align: middle;\n",
       "    }\n",
       "\n",
       "    .dataframe tbody tr th {\n",
       "        vertical-align: top;\n",
       "    }\n",
       "\n",
       "    .dataframe thead th {\n",
       "        text-align: right;\n",
       "    }\n",
       "</style>\n",
       "<table border=\"1\" class=\"dataframe\">\n",
       "  <thead>\n",
       "    <tr style=\"text-align: right;\">\n",
       "      <th></th>\n",
       "      <th>coIndx</th>\n",
       "      <th>city</th>\n",
       "    </tr>\n",
       "    <tr>\n",
       "      <th>category</th>\n",
       "      <th></th>\n",
       "      <th></th>\n",
       "    </tr>\n",
       "  </thead>\n",
       "  <tbody>\n",
       "    <tr>\n",
       "      <th>데이터분석</th>\n",
       "      <td>2334</td>\n",
       "      <td>2334</td>\n",
       "    </tr>\n",
       "    <tr>\n",
       "      <th>데이터관리</th>\n",
       "      <td>2124</td>\n",
       "      <td>2124</td>\n",
       "    </tr>\n",
       "    <tr>\n",
       "      <th>인공지능</th>\n",
       "      <td>1450</td>\n",
       "      <td>1450</td>\n",
       "    </tr>\n",
       "    <tr>\n",
       "      <th>빅데이터</th>\n",
       "      <td>1150</td>\n",
       "      <td>1150</td>\n",
       "    </tr>\n",
       "  </tbody>\n",
       "</table>\n",
       "</div>"
      ],
      "text/plain": [
       "          coIndx  city\n",
       "category              \n",
       "데이터분석       2334  2334\n",
       "데이터관리       2124  2124\n",
       "인공지능        1450  1450\n",
       "빅데이터        1150  1150"
      ]
     },
     "execution_count": 11,
     "metadata": {},
     "output_type": "execute_result"
    }
   ],
   "source": [
    "df.groupby([\"category\"]).count()[[\"coIndx\",\"city\"]].sort_values(by=[\"coIndx\"],ascending=False)"
   ]
  },
  {
   "cell_type": "code",
   "execution_count": 12,
   "metadata": {},
   "outputs": [
    {
     "data": {
      "text/plain": [
       "(array([   0.,  500., 1000., 1500., 2000., 2500.]),\n",
       " <a list of 6 Text yticklabel objects>)"
      ]
     },
     "execution_count": 12,
     "metadata": {},
     "output_type": "execute_result"
    },
    {
     "data": {
      "image/png": "[encoded data removed]",
      "text/plain": [
       "<Figure size 504x504 with 1 Axes>"
      ]
     },
     "metadata": {
      "needs_background": "light"
     },
     "output_type": "display_data"
    }
   ],
   "source": [
    "values = df.groupby([\"category\"]).count()[\"coIndx\"]\n",
    "df.groupby([\"category\"]).count().index\n",
    "fig, ax=plt.subplots(figsize=(7,7))\n",
    "ax.bar(df.groupby([\"category\"]).count().index,\n",
    "      values,\n",
    "      alpha=0.3,\n",
    "      color=[\"b\",\"g\",\"y\",\"r\"],\n",
    "      align=\"center\")\n",
    "ax.set_ylabel(\"모집공고수\")\n",
    "plt.xticks(fontsize=15)\n",
    "plt.yticks(fontsize=15)"
   ]
  },
  {
   "cell_type": "markdown",
   "metadata": {},
   "source": [
    "\n",
    "### 서울지역 분야별 모집현황"
   ]
  },
  {
   "cell_type": "code",
   "execution_count": 13,
   "metadata": {},
   "outputs": [
    {
     "data": {
      "text/plain": [
       "데이터분석    1695\n",
       "데이터관리    1292\n",
       "인공지능      899\n",
       "빅데이터      828\n",
       "Name: category, dtype: int64"
      ]
     },
     "execution_count": 13,
     "metadata": {},
     "output_type": "execute_result"
    }
   ],
   "source": [
    "df[df[\"city\"]==\"서울\"][\"category\"].value_counts()"
   ]
  },
  {
   "cell_type": "code",
   "execution_count": 14,
   "metadata": {},
   "outputs": [
    {
     "data": {
      "image/png": "[encoded data removed]",
      "text/plain": [
       "<Figure size 504x504 with 1 Axes>"
      ]
     },
     "metadata": {
      "needs_background": "light"
     },
     "output_type": "display_data"
    }
   ],
   "source": [
    "#bar그래프로 그려보자\n",
    "df_seoul = df[df[\"city\"]==\"서울\"]\n",
    "values = df_seoul[\"category\"].value_counts().values\n",
    "\n",
    "#그래프\n",
    "fig, ax=plt.subplots(figsize=(7,7))\n",
    "ax.bar(df_seoul[\"category\"].value_counts().index,\n",
    "       values,\n",
    "       color=[\"y\",\"b\",\"b\",\"b\"],\n",
    "       alpha=0.5,\n",
    "       align=\"center\"\n",
    "       )\n",
    "ax.set_ylabel('모집공고 수')\n",
    "ax.set_title(\"서울지역 키워드별 모집현황\")\n",
    "plt.xticks(fontsize=15)\n",
    "\n",
    "plt.show()"
   ]
  },
  {
   "cell_type": "code",
   "execution_count": 15,
   "metadata": {},
   "outputs": [
    {
     "data": {
      "text/plain": [
       "array(['경력무관', '경력3년', '경력2년', '경력1년', '경력', '신입'], dtype=object)"
      ]
     },
     "execution_count": 15,
     "metadata": {},
     "output_type": "execute_result"
    }
   ],
   "source": [
    "df_seoul[df_seoul['category']==\"데이터분석\"][\"career\"].unique()"
   ]
  },
  {
   "cell_type": "markdown",
   "metadata": {},
   "source": [
    "### 서울 내 '데이터분석' 경력별 모집현황!"
   ]
  },
  {
   "cell_type": "code",
   "execution_count": 16,
   "metadata": {},
   "outputs": [
    {
     "data": {
      "text/plain": [
       "경력무관     4209\n",
       "경력3년      798\n",
       "경력1년      566\n",
       "경력        486\n",
       "경력2년      442\n",
       "경력5년      251\n",
       "신입        184\n",
       "경력7년       57\n",
       "경력8년       46\n",
       "경력10년      19\n",
       "Name: career, dtype: int64"
      ]
     },
     "execution_count": 16,
     "metadata": {},
     "output_type": "execute_result"
    }
   ],
   "source": [
    "df[\"career\"].value_counts()"
   ]
  },
  {
   "cell_type": "markdown",
   "metadata": {},
   "source": [
    "### 서울지역에 데이터분석 관련 직종 중 계약분포도!"
   ]
  },
  {
   "cell_type": "code",
   "execution_count": 17,
   "metadata": {},
   "outputs": [
    {
     "data": {
      "text/plain": [
       "Text(0.5, 1.0, '경력조건별 서울지역 채용공고(데이터분석분야)')"
      ]
     },
     "execution_count": 17,
     "metadata": {},
     "output_type": "execute_result"
    },
    {
     "data": {
      "image/png": "[encoded data removed]",
      "text/plain": [
       "<Figure size 432x288 with 1 Axes>"
      ]
     },
     "metadata": {
      "needs_background": "light"
     },
     "output_type": "display_data"
    }
   ],
   "source": [
    "#연봉이 나와있지 않는 회사는 지우고 계산한다.\n",
    "df[df[\"salary\"] ==\"None\"].index\n",
    "\n",
    "df1 = df.drop(df[df[\"salary\"] ==\"None\"].index,axis=0)\n",
    "\n",
    "df2 = df1[(df1[\"city\"]==\"서울\")&(df1[\"category\"]==\"데이터분석\")]\n",
    "df2[\"career\"].value_counts()\n",
    "\n",
    "sns.barplot(x=df2[\"career\"].value_counts().index,\n",
    "            y=df2[\"career\"].value_counts().values\n",
    "            )\n",
    "\n",
    "\n",
    "plt.ylabel(\"빈도\",fontsize=15)\n",
    "plt.title(\"경력조건별 서울지역 채용공고(데이터분석분야)\",fontsize=15)"
   ]
  },
  {
   "cell_type": "code",
   "execution_count": null,
   "metadata": {},
   "outputs": [],
   "source": []
  },
  {
   "cell_type": "code",
   "execution_count": 18,
   "metadata": {},
   "outputs": [
    {
     "name": "stdout",
     "output_type": "stream",
     "text": [
      "Gulim\n"
     ]
    },
    {
     "data": {
      "image/png": "[encoded data removed]",
      "text/plain": [
       "<Figure size 1080x504 with 4 Axes>"
      ]
     },
     "metadata": {
      "needs_background": "light"
     },
     "output_type": "display_data"
    }
   ],
   "source": [
    "%matplotlib inline\n",
    "import pandas as pd\n",
    "import numpy as np\n",
    "import seaborn as sns\n",
    "import matplotlib.pyplot as plt\n",
    "import matplotlib\n",
    "\n",
    "from matplotlib import font_manager\n",
    "font_fname = \"C:\\\\Windows\\\\Fonts\\\\gulim.ttc\"\n",
    "font_family = font_manager.FontProperties(fname=font_fname).get_name()\n",
    "plt.rcParams[\"font.family\"] = font_family\n",
    "print(font_family)\n",
    "\n",
    "\n",
    "\n",
    "\n",
    "df2 = df1[(df1[\"city\"]==\"서울\")] #df2: 서울지역\n",
    "df3 = df2[df2[\"category\"] ==\"데이터분석\"]\n",
    "df4 = df2[df2[\"category\"]==\"데이터관리\"]\n",
    "df5 = df2[df2[\"category\"]==\"빅데이터\"]\n",
    "df6 = df2[df2[\"category\"]==\"인공지능\"]\n",
    "\n",
    "fig, ax = plt.subplots(nrows=1,ncols=4,figsize=(15,7))\n",
    "sns.countplot(x=\"category\",\n",
    "              data=df3, \n",
    "              ax=ax[0],\n",
    "              #order=df3[\"category\"].value_counts().index,\n",
    "              hue=\"education\",\n",
    "              hue_order=df3[\"education\"].value_counts().index,\n",
    "              palette=\"Set3\"\n",
    "\n",
    "              \n",
    "             )\n",
    "sns.countplot(x=\"category\",\n",
    "             data=df4,\n",
    "             ax=ax[1],\n",
    "             #order=df4[\"category\"].value_counts().index,\n",
    "             hue=\"education\",\n",
    "             hue_order=df4[\"education\"].value_counts().index,\n",
    "             palette=\"Set3\"\n",
    "             )\n",
    "\n",
    "sns.countplot(x=\"category\",\n",
    "             data=df5,\n",
    "             ax=ax[2],\n",
    "             #order=df4[\"category\"].value_counts().index,\n",
    "             hue=\"education\",\n",
    "             hue_order=df5[\"education\"].value_counts().index,\n",
    "             palette=\"Set3\"\n",
    "             )\n",
    "\n",
    "\n",
    "sns.countplot(x=\"category\",\n",
    "             data=df6,\n",
    "             ax=ax[3],\n",
    "             #order=df4[\"category\"].value_counts().index,\n",
    "             hue=\"education\",\n",
    "             hue_order=df6[\"education\"].value_counts().index,\n",
    "             palette=\"Set3\"\n",
    "             )\n",
    "\n",
    "plt.title(\"채용분야별 학력조건 비교\")\n",
    "plt.show()\n",
    "\n",
    "#fig"
   ]
  },
  {
   "cell_type": "markdown",
   "metadata": {},
   "source": [
    "### 경력별모집인원은 어떻게 되는가? -> 신입&경력무관이면서 대졸이상 채용회사들의 분포!"
   ]
  },
  {
   "cell_type": "code",
   "execution_count": 19,
   "metadata": {},
   "outputs": [
    {
     "data": {
      "text/plain": [
       "경력무관     4209\n",
       "경력3년      798\n",
       "경력1년      566\n",
       "경력        486\n",
       "경력2년      442\n",
       "경력5년      251\n",
       "신입        184\n",
       "경력7년       57\n",
       "경력8년       46\n",
       "경력10년      19\n",
       "Name: career, dtype: int64"
      ]
     },
     "execution_count": 19,
     "metadata": {},
     "output_type": "execute_result"
    }
   ],
   "source": [
    "df[\"career\"].value_counts()"
   ]
  },
  {
   "cell_type": "code",
   "execution_count": 20,
   "metadata": {},
   "outputs": [],
   "source": [
    "# 함수만들기\n",
    "def careerReset(career):\n",
    "    result = 0\n",
    "    if career ==\"경력1년\":\n",
    "        result = 1\n",
    "    elif career ==\"신입\":\n",
    "        result = 0\n",
    "    elif career ==\"경력무관\":\n",
    "        result = 0\n",
    "    elif career ==\"경력\":\n",
    "        result = 1\n",
    "    elif career ==\"경력2년\":\n",
    "        result = 2\n",
    "    elif career == \"경력3년\":\n",
    "        result = 3\n",
    "    else:\n",
    "        result = 5\n",
    "    return result\n",
    "\n",
    "df[\"career\"] = df[\"career\"].apply(lambda x: careerReset(x))\n",
    "    \n",
    "        "
   ]
  },
  {
   "cell_type": "code",
   "execution_count": null,
   "metadata": {},
   "outputs": [],
   "source": []
  },
  {
   "cell_type": "code",
   "execution_count": null,
   "metadata": {},
   "outputs": [],
   "source": []
  },
  {
   "cell_type": "code",
   "execution_count": 21,
   "metadata": {
    "scrolled": true
   },
   "outputs": [
    {
     "name": "stdout",
     "output_type": "stream",
     "text": [
      "Gulim\n"
     ]
    },
    {
     "data": {
      "image/png": "[encoded data removed]",
      "text/plain": [
       "<Figure size 1080x504 with 4 Axes>"
      ]
     },
     "metadata": {
      "needs_background": "light"
     },
     "output_type": "display_data"
    }
   ],
   "source": [
    "%matplotlib inline\n",
    "import pandas as pd\n",
    "import numpy as np\n",
    "import seaborn as sns\n",
    "import matplotlib.pyplot as plt\n",
    "import matplotlib\n",
    "\n",
    "from matplotlib import font_manager\n",
    "font_fname = \"C:\\\\Windows\\\\Fonts\\\\gulim.ttc\"\n",
    "font_family = font_manager.FontProperties(fname=font_fname).get_name()\n",
    "plt.rcParams[\"font.family\"] = font_family\n",
    "print(font_family)\n",
    "\n",
    "\n",
    "df_careerIsNew = df\n",
    "df_careerIsNew_seoul = df_careerIsNew[df_careerIsNew[\"city\"]==\"서울\"]   #서울지역 경력무관,신입으로 조회한 경우\n",
    "df_careerIsNew_seoul[\"education\"].value_counts()\n",
    "df_tot = df_careerIsNew_seoul[(df_careerIsNew_seoul[\"education\"] == \"대졸\") | (df_careerIsNew_seoul[\"education\"] == \"석사\")]\n",
    "df_tot\n",
    "\n",
    "df_samp01 = df_tot[df_tot[\"category\"] ==\"데이터분석\"]\n",
    "df_samp02 = df_tot[df_tot[\"category\"]==\"데이터관리\"]\n",
    "df_samp03 = df_tot[df_tot[\"category\"]==\"빅데이터\"]\n",
    "df_samp04 = df_tot[df_tot[\"category\"]==\"인공지능\"]\n",
    "\n",
    "\n",
    "fig, ax = plt.subplots(nrows=1,ncols=4,figsize=(15,7))\n",
    "sns.countplot(x=\"category\",\n",
    "              data=df_samp01, \n",
    "              ax=ax[0],\n",
    "              #order=df3[\"category\"].value_counts().index,\n",
    "              hue=\"career\",\n",
    "              hue_order=df_samp01[\"career\"].value_counts().index,\n",
    "              palette=\"Set3\"\n",
    "\n",
    "              \n",
    "             )\n",
    "sns.countplot(x=\"category\",\n",
    "              data=df_samp02, \n",
    "              ax=ax[1],\n",
    "              #order=df3[\"category\"].value_counts().index,\n",
    "              hue=\"career\",\n",
    "              hue_order=df_samp02[\"career\"].value_counts().index,\n",
    "              palette=\"Set3\"\n",
    "\n",
    "              \n",
    "             )\n",
    "sns.countplot(x=\"category\",\n",
    "              data=df_samp03, \n",
    "              ax=ax[2],\n",
    "              #order=df3[\"category\"].value_counts().index,\n",
    "              hue=\"career\",\n",
    "              hue_order=df_samp03[\"career\"].value_counts().index,\n",
    "              palette=\"Set3\"\n",
    "\n",
    "              \n",
    "             )\n",
    "sns.countplot(x=\"category\",\n",
    "              data=df_samp04, \n",
    "              ax=ax[3],\n",
    "              #order=df3[\"category\"].value_counts().index,\n",
    "              hue=\"career\",\n",
    "              hue_order=df_samp04[\"career\"].value_counts().index,\n",
    "              palette=\"Set3\"\n",
    "\n",
    "              \n",
    "             )\n",
    "\n",
    "plt.title(\"채용분야별 대졸이상 신입분포 비교\")\n",
    "plt.show()\n",
    "\n"
   ]
  },
  {
   "cell_type": "code",
   "execution_count": null,
   "metadata": {},
   "outputs": [],
   "source": []
  },
  {
   "cell_type": "markdown",
   "metadata": {},
   "source": [
    "### 평균연봉비교"
   ]
  },
  {
   "cell_type": "code",
   "execution_count": 22,
   "metadata": {},
   "outputs": [],
   "source": [
    "df[\"category\"] = df[\"category\"].astype(\"category\")\n",
    "\n",
    "df[\"category\"].cat.set_categories([\"데이터분석\",\"데이터관리\",\"빅데이터\",\"인공지능\"],\n",
    "                                   inplace=True)\n",
    "\n",
    "#pivot_table은 수치화된 자료만 볼 수 있다!\n"
   ]
  },
  {
   "cell_type": "code",
   "execution_count": 23,
   "metadata": {},
   "outputs": [
    {
     "data": {
      "text/plain": [
       "2"
      ]
     },
     "execution_count": 23,
     "metadata": {},
     "output_type": "execute_result"
    }
   ],
   "source": [
    "len(df[\"salary\"][0].split(\",\"))"
   ]
  },
  {
   "cell_type": "code",
   "execution_count": 24,
   "metadata": {},
   "outputs": [],
   "source": [
    "df[\"salary\"]=df[\"salary\"].apply(lambda x: x.split(\",\")[0]+x.split(\",\")[1] if len(x.split(\",\")) ==2 else x)\n",
    "df[\"salary\"]=df[\"salary\"].apply(lambda x: -1 if x=='None' else x)"
   ]
  },
  {
   "cell_type": "code",
   "execution_count": 25,
   "metadata": {},
   "outputs": [],
   "source": [
    "df[\"salary\"] = df[\"salary\"].astype(\"int64\")"
   ]
  },
  {
   "cell_type": "code",
   "execution_count": 26,
   "metadata": {},
   "outputs": [],
   "source": [
    "sal_del_indxList =df[df[\"salary\"] == -1].index\n",
    "df_sal = df.drop(sal_del_indxList, axis=0)\n",
    "#df_sal (연봉 유효한 값만 DF)"
   ]
  },
  {
   "cell_type": "code",
   "execution_count": 27,
   "metadata": {},
   "outputs": [
    {
     "data": {
      "text/plain": [
       "count    4558.000000\n",
       "mean     4093.060553\n",
       "std       804.892470\n",
       "min      2827.000000\n",
       "25%      3566.000000\n",
       "50%      4167.000000\n",
       "75%      4454.000000\n",
       "max      6358.000000\n",
       "Name: salary, dtype: float64"
      ]
     },
     "execution_count": 27,
     "metadata": {},
     "output_type": "execute_result"
    }
   ],
   "source": [
    "df_sal[\"salary\"].describe()"
   ]
  },
  {
   "cell_type": "code",
   "execution_count": null,
   "metadata": {},
   "outputs": [],
   "source": []
  },
  {
   "cell_type": "markdown",
   "metadata": {},
   "source": [
    "### 중복된 회사 삭제"
   ]
  },
  {
   "cell_type": "code",
   "execution_count": 28,
   "metadata": {},
   "outputs": [
    {
     "data": {
      "text/html": [
       "<div>\n",
       "<style scoped>\n",
       "    .dataframe tbody tr th:only-of-type {\n",
       "        vertical-align: middle;\n",
       "    }\n",
       "\n",
       "    .dataframe tbody tr th {\n",
       "        vertical-align: top;\n",
       "    }\n",
       "\n",
       "    .dataframe thead th {\n",
       "        text-align: right;\n",
       "    }\n",
       "</style>\n",
       "<table border=\"1\" class=\"dataframe\">\n",
       "  <thead>\n",
       "    <tr style=\"text-align: right;\">\n",
       "      <th></th>\n",
       "      <th>coIndx</th>\n",
       "      <th>category</th>\n",
       "      <th>city</th>\n",
       "      <th>region</th>\n",
       "      <th>coNm</th>\n",
       "      <th>title</th>\n",
       "      <th>career</th>\n",
       "      <th>education</th>\n",
       "      <th>contract</th>\n",
       "      <th>r_date</th>\n",
       "      <th>coID</th>\n",
       "      <th>salary</th>\n",
       "    </tr>\n",
       "  </thead>\n",
       "  <tbody>\n",
       "    <tr>\n",
       "      <th>0</th>\n",
       "      <td>38262896</td>\n",
       "      <td>데이터분석</td>\n",
       "      <td>서울</td>\n",
       "      <td>강남구</td>\n",
       "      <td>㈜인텔리코드</td>\n",
       "      <td>데이터분석개발정규직모집(신입,경력)</td>\n",
       "      <td>0</td>\n",
       "      <td>대졸</td>\n",
       "      <td>정규직</td>\n",
       "      <td>0804</td>\n",
       "      <td>1428123607</td>\n",
       "      <td>3803</td>\n",
       "    </tr>\n",
       "    <tr>\n",
       "      <th>1</th>\n",
       "      <td>38251713</td>\n",
       "      <td>데이터분석</td>\n",
       "      <td>서울</td>\n",
       "      <td>관악구</td>\n",
       "      <td>프리윌린</td>\n",
       "      <td>데이터분석가(비즈니스분석가)</td>\n",
       "      <td>3</td>\n",
       "      <td>대졸</td>\n",
       "      <td>정규직</td>\n",
       "      <td>채용시</td>\n",
       "      <td>8348600713</td>\n",
       "      <td>3669</td>\n",
       "    </tr>\n",
       "    <tr>\n",
       "      <th>2</th>\n",
       "      <td>38399122</td>\n",
       "      <td>데이터분석</td>\n",
       "      <td>서울</td>\n",
       "      <td>성동구</td>\n",
       "      <td>(주)타파크로스</td>\n",
       "      <td>소셜빅데이터분석가및마케팅기획,AE모집</td>\n",
       "      <td>0</td>\n",
       "      <td>대졸</td>\n",
       "      <td>정규직</td>\n",
       "      <td>0831</td>\n",
       "      <td>2068630542</td>\n",
       "      <td>3653</td>\n",
       "    </tr>\n",
       "    <tr>\n",
       "      <th>5</th>\n",
       "      <td>38223650</td>\n",
       "      <td>데이터분석</td>\n",
       "      <td>서울</td>\n",
       "      <td>강남구</td>\n",
       "      <td>(주)앤서</td>\n",
       "      <td>빅데이터시스템구축및데이터분석엔지니어모집</td>\n",
       "      <td>0</td>\n",
       "      <td>초대졸</td>\n",
       "      <td>정규직</td>\n",
       "      <td>0727</td>\n",
       "      <td>2118843136</td>\n",
       "      <td>4742</td>\n",
       "    </tr>\n",
       "    <tr>\n",
       "      <th>6</th>\n",
       "      <td>38284671</td>\n",
       "      <td>데이터분석</td>\n",
       "      <td>서울</td>\n",
       "      <td>중구</td>\n",
       "      <td>주식회사 성진에이치디에스</td>\n",
       "      <td>최고의복지로함께성장할'데이터분석가'를찾습니다</td>\n",
       "      <td>0</td>\n",
       "      <td>학력무관</td>\n",
       "      <td>정규직</td>\n",
       "      <td>0713</td>\n",
       "      <td>6228600629</td>\n",
       "      <td>4185</td>\n",
       "    </tr>\n",
       "    <tr>\n",
       "      <th>...</th>\n",
       "      <td>...</td>\n",
       "      <td>...</td>\n",
       "      <td>...</td>\n",
       "      <td>...</td>\n",
       "      <td>...</td>\n",
       "      <td>...</td>\n",
       "      <td>...</td>\n",
       "      <td>...</td>\n",
       "      <td>...</td>\n",
       "      <td>...</td>\n",
       "      <td>...</td>\n",
       "      <td>...</td>\n",
       "    </tr>\n",
       "    <tr>\n",
       "      <th>5650</th>\n",
       "      <td>38137534</td>\n",
       "      <td>인공지능</td>\n",
       "      <td>서울</td>\n",
       "      <td>강서구</td>\n",
       "      <td>(주)비트나인</td>\n",
       "      <td>[비트나인]빅데이터/인공지능기술전문가모집</td>\n",
       "      <td>2</td>\n",
       "      <td>학력무관</td>\n",
       "      <td>정규직</td>\n",
       "      <td>0710</td>\n",
       "      <td>2208868408</td>\n",
       "      <td>4848</td>\n",
       "    </tr>\n",
       "    <tr>\n",
       "      <th>5653</th>\n",
       "      <td>38320168</td>\n",
       "      <td>인공지능</td>\n",
       "      <td>전북</td>\n",
       "      <td>전주시 완산구</td>\n",
       "      <td>(주)타바바</td>\n",
       "      <td>JAVA개발자(인공지능)모집합니다</td>\n",
       "      <td>3</td>\n",
       "      <td>대졸</td>\n",
       "      <td>정규직</td>\n",
       "      <td>0816</td>\n",
       "      <td>5928100226</td>\n",
       "      <td>2954</td>\n",
       "    </tr>\n",
       "    <tr>\n",
       "      <th>5655</th>\n",
       "      <td>38320925</td>\n",
       "      <td>인공지능</td>\n",
       "      <td>서울</td>\n",
       "      <td>강남구</td>\n",
       "      <td>데이터플로</td>\n",
       "      <td>인공지능(AI)·빅데이터영업정규직&amp;계약직채용(경력)</td>\n",
       "      <td>1</td>\n",
       "      <td>학력무관</td>\n",
       "      <td>정규직계약직</td>\n",
       "      <td>0816</td>\n",
       "      <td>5098105501</td>\n",
       "      <td>3056</td>\n",
       "    </tr>\n",
       "    <tr>\n",
       "      <th>5656</th>\n",
       "      <td>38255338</td>\n",
       "      <td>인공지능</td>\n",
       "      <td>광주</td>\n",
       "      <td>북구</td>\n",
       "      <td>(주)호그린에어</td>\n",
       "      <td>SW(소프트웨어),인공지능(AI)外정규직채용-각부문별</td>\n",
       "      <td>3</td>\n",
       "      <td>대졸</td>\n",
       "      <td>정규직</td>\n",
       "      <td>0802</td>\n",
       "      <td>2718100479</td>\n",
       "      <td>3099</td>\n",
       "    </tr>\n",
       "    <tr>\n",
       "      <th>5657</th>\n",
       "      <td>38259654</td>\n",
       "      <td>인공지능</td>\n",
       "      <td>서울</td>\n",
       "      <td>금천구</td>\n",
       "      <td>(주)스칼라웍스</td>\n",
       "      <td>인공지능(AI)·빅데이터정규직채용-경력</td>\n",
       "      <td>3</td>\n",
       "      <td>석사</td>\n",
       "      <td>정규직</td>\n",
       "      <td>채용시</td>\n",
       "      <td>2438800172</td>\n",
       "      <td>5048</td>\n",
       "    </tr>\n",
       "  </tbody>\n",
       "</table>\n",
       "<p>193 rows × 12 columns</p>\n",
       "</div>"
      ],
      "text/plain": [
       "        coIndx category city   region           coNm  \\\n",
       "0     38262896    데이터분석   서울      강남구         ㈜인텔리코드   \n",
       "1     38251713    데이터분석   서울      관악구           프리윌린   \n",
       "2     38399122    데이터분석   서울      성동구       (주)타파크로스   \n",
       "5     38223650    데이터분석   서울      강남구          (주)앤서   \n",
       "6     38284671    데이터분석   서울       중구  주식회사 성진에이치디에스   \n",
       "...        ...      ...  ...      ...            ...   \n",
       "5650  38137534     인공지능   서울      강서구        (주)비트나인   \n",
       "5653  38320168     인공지능   전북  전주시 완산구         (주)타바바   \n",
       "5655  38320925     인공지능   서울      강남구          데이터플로   \n",
       "5656  38255338     인공지능   광주       북구       (주)호그린에어   \n",
       "5657  38259654     인공지능   서울      금천구       (주)스칼라웍스   \n",
       "\n",
       "                              title  career education contract r_date  \\\n",
       "0               데이터분석개발정규직모집(신입,경력)       0        대졸      정규직   0804   \n",
       "1                   데이터분석가(비즈니스분석가)       3        대졸      정규직    채용시   \n",
       "2              소셜빅데이터분석가및마케팅기획,AE모집       0        대졸      정규직   0831   \n",
       "5             빅데이터시스템구축및데이터분석엔지니어모집       0       초대졸      정규직   0727   \n",
       "6          최고의복지로함께성장할'데이터분석가'를찾습니다       0      학력무관      정규직   0713   \n",
       "...                             ...     ...       ...      ...    ...   \n",
       "5650         [비트나인]빅데이터/인공지능기술전문가모집       2      학력무관      정규직   0710   \n",
       "5653             JAVA개발자(인공지능)모집합니다       3        대졸      정규직   0816   \n",
       "5655   인공지능(AI)·빅데이터영업정규직&계약직채용(경력)       1      학력무관   정규직계약직   0816   \n",
       "5656  SW(소프트웨어),인공지능(AI)外정규직채용-각부문별       3        대졸      정규직   0802   \n",
       "5657          인공지능(AI)·빅데이터정규직채용-경력       3        석사      정규직    채용시   \n",
       "\n",
       "            coID  salary  \n",
       "0     1428123607    3803  \n",
       "1     8348600713    3669  \n",
       "2     2068630542    3653  \n",
       "5     2118843136    4742  \n",
       "6     6228600629    4185  \n",
       "...          ...     ...  \n",
       "5650  2208868408    4848  \n",
       "5653  5928100226    2954  \n",
       "5655  5098105501    3056  \n",
       "5656  2718100479    3099  \n",
       "5657  2438800172    5048  \n",
       "\n",
       "[193 rows x 12 columns]"
      ]
     },
     "execution_count": 28,
     "metadata": {},
     "output_type": "execute_result"
    }
   ],
   "source": [
    "df_sal.drop_duplicates([\"coNm\"])\n",
    "df_sal_unique = df_sal.drop_duplicates([\"coIndx\"])\n",
    "\n",
    "df_sal_unique"
   ]
  },
  {
   "cell_type": "code",
   "execution_count": null,
   "metadata": {},
   "outputs": [],
   "source": []
  },
  {
   "cell_type": "code",
   "execution_count": null,
   "metadata": {},
   "outputs": [],
   "source": []
  },
  {
   "cell_type": "markdown",
   "metadata": {},
   "source": [
    "### 분야별 연봉의 차이는 얼마나 있을까? (중위값,평균,최대값,최소값)(전국단위)"
   ]
  },
  {
   "cell_type": "code",
   "execution_count": 29,
   "metadata": {},
   "outputs": [
    {
     "data": {
      "text/html": [
       "<div>\n",
       "<style scoped>\n",
       "    .dataframe tbody tr th:only-of-type {\n",
       "        vertical-align: middle;\n",
       "    }\n",
       "\n",
       "    .dataframe tbody tr th {\n",
       "        vertical-align: top;\n",
       "    }\n",
       "\n",
       "    .dataframe thead tr th {\n",
       "        text-align: left;\n",
       "    }\n",
       "\n",
       "    .dataframe thead tr:last-of-type th {\n",
       "        text-align: right;\n",
       "    }\n",
       "</style>\n",
       "<table border=\"1\" class=\"dataframe\">\n",
       "  <thead>\n",
       "    <tr>\n",
       "      <th></th>\n",
       "      <th>median</th>\n",
       "      <th>mean</th>\n",
       "      <th>amax</th>\n",
       "      <th>amin</th>\n",
       "    </tr>\n",
       "    <tr>\n",
       "      <th></th>\n",
       "      <th>salary</th>\n",
       "      <th>salary</th>\n",
       "      <th>salary</th>\n",
       "      <th>salary</th>\n",
       "    </tr>\n",
       "    <tr>\n",
       "      <th>category</th>\n",
       "      <th></th>\n",
       "      <th></th>\n",
       "      <th></th>\n",
       "      <th></th>\n",
       "    </tr>\n",
       "  </thead>\n",
       "  <tbody>\n",
       "    <tr>\n",
       "      <th>데이터분석</th>\n",
       "      <td>3808</td>\n",
       "      <td>4029.330097</td>\n",
       "      <td>6358</td>\n",
       "      <td>2876</td>\n",
       "    </tr>\n",
       "    <tr>\n",
       "      <th>데이터관리</th>\n",
       "      <td>4208</td>\n",
       "      <td>4084.000000</td>\n",
       "      <td>5848</td>\n",
       "      <td>2913</td>\n",
       "    </tr>\n",
       "    <tr>\n",
       "      <th>빅데이터</th>\n",
       "      <td>4010</td>\n",
       "      <td>3975.333333</td>\n",
       "      <td>5639</td>\n",
       "      <td>2827</td>\n",
       "    </tr>\n",
       "    <tr>\n",
       "      <th>인공지능</th>\n",
       "      <td>4306</td>\n",
       "      <td>4041.913043</td>\n",
       "      <td>5048</td>\n",
       "      <td>2904</td>\n",
       "    </tr>\n",
       "    <tr>\n",
       "      <th>All</th>\n",
       "      <td>4126</td>\n",
       "      <td>4032.917098</td>\n",
       "      <td>6358</td>\n",
       "      <td>2827</td>\n",
       "    </tr>\n",
       "  </tbody>\n",
       "</table>\n",
       "</div>"
      ],
      "text/plain": [
       "         median         mean   amax   amin\n",
       "         salary       salary salary salary\n",
       "category                                  \n",
       "데이터분석      3808  4029.330097   6358   2876\n",
       "데이터관리      4208  4084.000000   5848   2913\n",
       "빅데이터       4010  3975.333333   5639   2827\n",
       "인공지능       4306  4041.913043   5048   2904\n",
       "All        4126  4032.917098   6358   2827"
      ]
     },
     "execution_count": 29,
     "metadata": {},
     "output_type": "execute_result"
    }
   ],
   "source": [
    "df_sal_unique.head()\n",
    "pd.pivot_table(df_sal_unique,index=\"category\",aggfunc=[np.median,np.mean,np.max,np.min],values=\"salary\",margins=True)\n"
   ]
  },
  {
   "cell_type": "code",
   "execution_count": null,
   "metadata": {},
   "outputs": [],
   "source": []
  },
  {
   "cell_type": "code",
   "execution_count": 30,
   "metadata": {},
   "outputs": [
    {
     "data": {
      "text/plain": [
       "dict_keys(['강남구', '강동구', '강서구', '관악구', '광진구', '구로구', '금천구', '마포구', '서초구', '성동구', '송파구', '영등포구', '용산구', '종로구', '중구'])"
      ]
     },
     "execution_count": 30,
     "metadata": {},
     "output_type": "execute_result"
    }
   ],
   "source": [
    "# 서울지역을 자세하게 알아보자!\n",
    "df_s_seoul =df_sal_unique[df_sal_unique[\"city\"] == \"서울\"]\n",
    "df_s_seoul[df_s_seoul[\"category\"]==\"데이터분석\"]  #데이터분석 키워드만 가져옴!\n",
    "\n",
    "df_s_seoul.groupby(['region']).groups.keys()  #서울지역별로 묶어보자!"
   ]
  },
  {
   "cell_type": "code",
   "execution_count": 31,
   "metadata": {},
   "outputs": [
    {
     "data": {
      "text/plain": [
       "region\n",
       "강남구     32\n",
       "금천구     11\n",
       "서초구      7\n",
       "송파구      7\n",
       "마포구      5\n",
       "강동구      4\n",
       "구로구      4\n",
       "성동구      4\n",
       "영등포구     4\n",
       "중구       4\n",
       "광진구      3\n",
       "용산구      3\n",
       "강서구      2\n",
       "관악구      2\n",
       "종로구      1\n",
       "Name: coNm, dtype: int64"
      ]
     },
     "execution_count": 31,
     "metadata": {},
     "output_type": "execute_result"
    }
   ],
   "source": [
    "df_s_seoul.groupby(['region']).max()[\"salary\"].sort_values(ascending=False)\n",
    "df_s_seoul.groupby([\"region\"]).count().sort_values(by=[\"coNm\"],ascending=False)[\"coNm\"]"
   ]
  },
  {
   "cell_type": "markdown",
   "metadata": {},
   "source": [
    "#### 서울권 회사들의 분야별 평균연봉은 어떻게 될까?"
   ]
  },
  {
   "cell_type": "code",
   "execution_count": 32,
   "metadata": {},
   "outputs": [
    {
     "data": {
      "text/html": [
       "<div>\n",
       "<style scoped>\n",
       "    .dataframe tbody tr th:only-of-type {\n",
       "        vertical-align: middle;\n",
       "    }\n",
       "\n",
       "    .dataframe tbody tr th {\n",
       "        vertical-align: top;\n",
       "    }\n",
       "\n",
       "    .dataframe thead th {\n",
       "        text-align: right;\n",
       "    }\n",
       "</style>\n",
       "<table border=\"1\" class=\"dataframe\">\n",
       "  <thead>\n",
       "    <tr style=\"text-align: right;\">\n",
       "      <th></th>\n",
       "      <th>count</th>\n",
       "      <th>mean</th>\n",
       "      <th>std</th>\n",
       "      <th>min</th>\n",
       "      <th>25%</th>\n",
       "      <th>50%</th>\n",
       "      <th>75%</th>\n",
       "      <th>max</th>\n",
       "    </tr>\n",
       "    <tr>\n",
       "      <th>category</th>\n",
       "      <th></th>\n",
       "      <th></th>\n",
       "      <th></th>\n",
       "      <th></th>\n",
       "      <th></th>\n",
       "      <th></th>\n",
       "      <th></th>\n",
       "      <th></th>\n",
       "    </tr>\n",
       "  </thead>\n",
       "  <tbody>\n",
       "    <tr>\n",
       "      <th>데이터분석</th>\n",
       "      <td>44.0</td>\n",
       "      <td>3972.863636</td>\n",
       "      <td>714.969428</td>\n",
       "      <td>2876.0</td>\n",
       "      <td>3578.0</td>\n",
       "      <td>3775.5</td>\n",
       "      <td>4311.0</td>\n",
       "      <td>6307.0</td>\n",
       "    </tr>\n",
       "    <tr>\n",
       "      <th>데이터관리</th>\n",
       "      <td>12.0</td>\n",
       "      <td>4071.916667</td>\n",
       "      <td>769.501900</td>\n",
       "      <td>2999.0</td>\n",
       "      <td>3435.5</td>\n",
       "      <td>4285.5</td>\n",
       "      <td>4481.5</td>\n",
       "      <td>5331.0</td>\n",
       "    </tr>\n",
       "    <tr>\n",
       "      <th>빅데이터</th>\n",
       "      <td>23.0</td>\n",
       "      <td>4010.521739</td>\n",
       "      <td>766.363780</td>\n",
       "      <td>2827.0</td>\n",
       "      <td>3609.5</td>\n",
       "      <td>3908.0</td>\n",
       "      <td>4450.0</td>\n",
       "      <td>5639.0</td>\n",
       "    </tr>\n",
       "    <tr>\n",
       "      <th>인공지능</th>\n",
       "      <td>14.0</td>\n",
       "      <td>4306.142857</td>\n",
       "      <td>726.716732</td>\n",
       "      <td>2904.0</td>\n",
       "      <td>3844.0</td>\n",
       "      <td>4428.0</td>\n",
       "      <td>4954.5</td>\n",
       "      <td>5048.0</td>\n",
       "    </tr>\n",
       "  </tbody>\n",
       "</table>\n",
       "</div>"
      ],
      "text/plain": [
       "          count         mean         std     min     25%     50%     75%  \\\n",
       "category                                                                   \n",
       "데이터분석      44.0  3972.863636  714.969428  2876.0  3578.0  3775.5  4311.0   \n",
       "데이터관리      12.0  4071.916667  769.501900  2999.0  3435.5  4285.5  4481.5   \n",
       "빅데이터       23.0  4010.521739  766.363780  2827.0  3609.5  3908.0  4450.0   \n",
       "인공지능       14.0  4306.142857  726.716732  2904.0  3844.0  4428.0  4954.5   \n",
       "\n",
       "             max  \n",
       "category          \n",
       "데이터분석     6307.0  \n",
       "데이터관리     5331.0  \n",
       "빅데이터      5639.0  \n",
       "인공지능      5048.0  "
      ]
     },
     "execution_count": 32,
     "metadata": {},
     "output_type": "execute_result"
    }
   ],
   "source": [
    "# 서울회사들의 분야별 평균연봉은 어떻게 될까?\n",
    "df_s_seoul.groupby([\"category\"]).describe()[\"salary\"]"
   ]
  },
  {
   "cell_type": "code",
   "execution_count": 33,
   "metadata": {},
   "outputs": [
    {
     "name": "stdout",
     "output_type": "stream",
     "text": [
      "Gulim\n"
     ]
    },
    {
     "data": {
      "image/png": "[encoded data removed]",
      "text/plain": [
       "<Figure size 1080x504 with 1 Axes>"
      ]
     },
     "metadata": {
      "needs_background": "light"
     },
     "output_type": "display_data"
    }
   ],
   "source": [
    "%matplotlib inline\n",
    "import pandas as pd\n",
    "import numpy as np\n",
    "import seaborn as sns\n",
    "import matplotlib.pyplot as plt\n",
    "import matplotlib\n",
    "\n",
    "from matplotlib import font_manager\n",
    "font_fname = \"C:\\\\Windows\\\\Fonts\\\\gulim.ttc\"\n",
    "font_family = font_manager.FontProperties(fname=font_fname).get_name()\n",
    "plt.rcParams[\"font.family\"] = font_family\n",
    "print(font_family)\n",
    "\n",
    "\n",
    "\n",
    "\n",
    "fig, ax = plt.subplots(figsize=(15,7))\n",
    "sns.set(style='whitegrid')\n",
    "sns.boxplot(y=df_sal_unique[\"salary\"],x=df_sal_unique[\"category\"])\n",
    "plt.show()"
   ]
  },
  {
   "cell_type": "code",
   "execution_count": 42,
   "metadata": {},
   "outputs": [
    {
     "name": "stdout",
     "output_type": "stream",
     "text": [
      "Gulim\n"
     ]
    },
    {
     "data": {
      "text/plain": [
       "Text(0.5, 1.0, '서울내 회사 평균연봉')"
      ]
     },
     "execution_count": 42,
     "metadata": {},
     "output_type": "execute_result"
    },
    {
     "data": {
      "image/png": "[encoded data removed]",
      "text/plain": [
       "<Figure size 1080x504 with 1 Axes>"
      ]
     },
     "metadata": {
      "needs_background": "light"
     },
     "output_type": "display_data"
    }
   ],
   "source": [
    "%matplotlib inline\n",
    "import pandas as pd\n",
    "import numpy as np\n",
    "import seaborn as sns\n",
    "import matplotlib.pyplot as plt\n",
    "import matplotlib\n",
    "\n",
    "from matplotlib import font_manager\n",
    "font_fname = \"C:\\\\Windows\\\\Fonts\\\\gulim.ttc\"\n",
    "font_family = font_manager.FontProperties(fname=font_fname).get_name()\n",
    "plt.rcParams[\"font.family\"] = font_family\n",
    "print(font_family)\n",
    "fig, ax = plt.subplots(figsize=(15,7))\n",
    "sns.stripplot(y=\"salary\",data=df_s_seoul,x=\"category\",edgecolor=\"gray\")\n",
    "plt.title(\"서울내 회사 평균연봉\")"
   ]
  },
  {
   "cell_type": "code",
   "execution_count": null,
   "metadata": {},
   "outputs": [],
   "source": []
  },
  {
   "cell_type": "code",
   "execution_count": 35,
   "metadata": {},
   "outputs": [],
   "source": [
    "# 전국단위별 연봉 비교!!"
   ]
  },
  {
   "cell_type": "code",
   "execution_count": 43,
   "metadata": {},
   "outputs": [
    {
     "name": "stdout",
     "output_type": "stream",
     "text": [
      "Gulim\n"
     ]
    },
    {
     "data": {
      "image/png": "[encoded data removed]",
      "text/plain": [
       "<Figure size 540x540 with 1 Axes>"
      ]
     },
     "metadata": {
      "needs_background": "light"
     },
     "output_type": "display_data"
    }
   ],
   "source": [
    "%matplotlib inline\n",
    "import pandas as pd\n",
    "import numpy as np\n",
    "import seaborn as sns\n",
    "import matplotlib.pyplot as plt\n",
    "import matplotlib\n",
    "\n",
    "from matplotlib import font_manager\n",
    "font_fname = \"C:\\\\Windows\\\\Fonts\\\\gulim.ttc\"\n",
    "font_family = font_manager.FontProperties(fname=font_fname).get_name()\n",
    "plt.rcParams[\"font.family\"] = font_family\n",
    "print(font_family)\n",
    "fig, ax = plt.subplots(figsize=(7.5,7.5))\n",
    "sns.violinplot(y=\"salary\",data=df_sal_unique,x=\"category\")\n",
    "plt.title(\"전국단위 연봉분포\")\n",
    "plt.show()"
   ]
  },
  {
   "cell_type": "code",
   "execution_count": null,
   "metadata": {},
   "outputs": [],
   "source": []
  },
  {
   "cell_type": "code",
   "execution_count": 44,
   "metadata": {},
   "outputs": [
    {
     "name": "stdout",
     "output_type": "stream",
     "text": [
      "Gulim\n"
     ]
    }
   ],
   "source": [
    "%matplotlib inline\n",
    "import pandas as pd\n",
    "import numpy as np\n",
    "import seaborn as sns\n",
    "import matplotlib.pyplot as plt\n",
    "import matplotlib\n",
    "\n",
    "from matplotlib import font_manager\n",
    "font_fname = \"C:\\\\Windows\\\\Fonts\\\\gulim.ttc\"\n",
    "font_family = font_manager.FontProperties(fname=font_fname).get_name()\n",
    "plt.rcParams[\"font.family\"] = font_family\n",
    "print(font_family)"
   ]
  },
  {
   "cell_type": "code",
   "execution_count": 45,
   "metadata": {
    "scrolled": true
   },
   "outputs": [
    {
     "data": {
      "text/plain": [
       "Text(0.5, 1.0, '전국 지역별 회사 평균연봉')"
      ]
     },
     "execution_count": 45,
     "metadata": {},
     "output_type": "execute_result"
    },
    {
     "data": {
      "image/png": "[encoded data removed]",
      "text/plain": [
       "<Figure size 1080x504 with 1 Axes>"
      ]
     },
     "metadata": {
      "needs_background": "light"
     },
     "output_type": "display_data"
    }
   ],
   "source": [
    "\n",
    "\n",
    "\n",
    "\n",
    "df_sal_unique[\"salary\"].value_counts()\n",
    "\n",
    "\n",
    "fig, ax = plt.subplots(figsize=(15,7))\n",
    "sns.stripplot(y=\"salary\",data=df_sal_unique,x=\"category\",hue=\"city\",edgecolor=\"gray\")\n",
    "plt.legend(loc=1)\n",
    "plt.title(\"전국 지역별 회사 평균연봉\")"
   ]
  },
  {
   "cell_type": "code",
   "execution_count": null,
   "metadata": {},
   "outputs": [],
   "source": []
  },
  {
   "cell_type": "code",
   "execution_count": 38,
   "metadata": {},
   "outputs": [
    {
     "data": {
      "text/plain": [
       "Text(0.5, 1.0, '전국 지역별 회사 평균연봉')"
      ]
     },
     "execution_count": 38,
     "metadata": {},
     "output_type": "execute_result"
    },
    {
     "data": {
      "image/png": "[encoded data removed]",
      "text/plain": [
       "<Figure size 1080x504 with 1 Axes>"
      ]
     },
     "metadata": {},
     "output_type": "display_data"
    }
   ],
   "source": [
    "\n",
    "fig, ax = plt.subplots(figsize=(15,7))\n",
    "sns.despine(fig, left=True, bottom=False)\n",
    "sns.scatterplot(x=\"city\",y=\"salary\",data=df_sal_unique)\n",
    "plt.title(\"전국 지역별 회사 평균연봉\")"
   ]
  },
  {
   "cell_type": "code",
   "execution_count": null,
   "metadata": {},
   "outputs": [],
   "source": []
  },
  {
   "cell_type": "code",
   "execution_count": null,
   "metadata": {},
   "outputs": [],
   "source": []
  },
  {
   "cell_type": "code",
   "execution_count": null,
   "metadata": {},
   "outputs": [],
   "source": []
  },
  {
   "cell_type": "markdown",
   "metadata": {},
   "source": [
    "### 전국에서 평균연봉이 높은 회사는 어디일까?(07/09모집기준)"
   ]
  },
  {
   "cell_type": "code",
   "execution_count": 39,
   "metadata": {},
   "outputs": [
    {
     "data": {
      "text/html": [
       "<div>\n",
       "<style scoped>\n",
       "    .dataframe tbody tr th:only-of-type {\n",
       "        vertical-align: middle;\n",
       "    }\n",
       "\n",
       "    .dataframe tbody tr th {\n",
       "        vertical-align: top;\n",
       "    }\n",
       "\n",
       "    .dataframe thead th {\n",
       "        text-align: right;\n",
       "    }\n",
       "</style>\n",
       "<table border=\"1\" class=\"dataframe\">\n",
       "  <thead>\n",
       "    <tr style=\"text-align: right;\">\n",
       "      <th></th>\n",
       "      <th>category</th>\n",
       "      <th>city</th>\n",
       "      <th>region</th>\n",
       "      <th>coNm</th>\n",
       "      <th>title</th>\n",
       "      <th>contract</th>\n",
       "      <th>salary</th>\n",
       "    </tr>\n",
       "  </thead>\n",
       "  <tbody>\n",
       "    <tr>\n",
       "      <th>1613</th>\n",
       "      <td>데이터분석</td>\n",
       "      <td>경기</td>\n",
       "      <td>성남시 분당구</td>\n",
       "      <td>라인플러스(주)</td>\n",
       "      <td>2020년LINE경력개발자공개채용</td>\n",
       "      <td>정규직</td>\n",
       "      <td>6358</td>\n",
       "    </tr>\n",
       "  </tbody>\n",
       "</table>\n",
       "</div>"
      ],
      "text/plain": [
       "     category city   region      coNm               title contract  salary\n",
       "1613    데이터분석   경기  성남시 분당구  라인플러스(주)  2020년LINE경력개발자공개채용      정규직    6358"
      ]
     },
     "execution_count": 39,
     "metadata": {},
     "output_type": "execute_result"
    }
   ],
   "source": [
    "col_list =[\"category\",\"city\",\"region\",\"coNm\",\"title\",\"contract\",\"salary\"]\n",
    "df_sal_unique[df_sal_unique[\"salary\"]==6358][col_list]"
   ]
  },
  {
   "cell_type": "markdown",
   "metadata": {},
   "source": [
    "### 전국에서 평균연봉이 가장 낮은 회사는 어디일까?(07/09모집기준)"
   ]
  },
  {
   "cell_type": "code",
   "execution_count": 40,
   "metadata": {},
   "outputs": [
    {
     "data": {
      "text/html": [
       "<div>\n",
       "<style scoped>\n",
       "    .dataframe tbody tr th:only-of-type {\n",
       "        vertical-align: middle;\n",
       "    }\n",
       "\n",
       "    .dataframe tbody tr th {\n",
       "        vertical-align: top;\n",
       "    }\n",
       "\n",
       "    .dataframe thead th {\n",
       "        text-align: right;\n",
       "    }\n",
       "</style>\n",
       "<table border=\"1\" class=\"dataframe\">\n",
       "  <thead>\n",
       "    <tr style=\"text-align: right;\">\n",
       "      <th></th>\n",
       "      <th>category</th>\n",
       "      <th>city</th>\n",
       "      <th>region</th>\n",
       "      <th>coNm</th>\n",
       "      <th>title</th>\n",
       "      <th>contract</th>\n",
       "      <th>salary</th>\n",
       "    </tr>\n",
       "  </thead>\n",
       "  <tbody>\n",
       "    <tr>\n",
       "      <th>2345</th>\n",
       "      <td>빅데이터</td>\n",
       "      <td>서울</td>\n",
       "      <td>광진구</td>\n",
       "      <td>건국대학교 대학원 의학과</td>\n",
       "      <td>영문교정/웹디자인/R프로그래밍/빅데이터</td>\n",
       "      <td>기간제계약직</td>\n",
       "      <td>2827</td>\n",
       "    </tr>\n",
       "  </tbody>\n",
       "</table>\n",
       "</div>"
      ],
      "text/plain": [
       "     category city region           coNm                  title contract  \\\n",
       "2345     빅데이터   서울    광진구  건국대학교 대학원 의학과  영문교정/웹디자인/R프로그래밍/빅데이터   기간제계약직   \n",
       "\n",
       "      salary  \n",
       "2345    2827  "
      ]
     },
     "execution_count": 40,
     "metadata": {},
     "output_type": "execute_result"
    }
   ],
   "source": [
    "df_sal_unique[\"salary\"].min()\n",
    "df_sal_unique[df_sal_unique[\"salary\"]==2827][col_list]"
   ]
  },
  {
   "cell_type": "code",
   "execution_count": null,
   "metadata": {},
   "outputs": [],
   "source": []
  },
  {
   "cell_type": "code",
   "execution_count": null,
   "metadata": {},
   "outputs": [],
   "source": []
  },
  {
   "cell_type": "code",
   "execution_count": null,
   "metadata": {},
   "outputs": [],
   "source": []
  },
  {
   "cell_type": "code",
   "execution_count": null,
   "metadata": {},
   "outputs": [],
   "source": []
  }
 ],
 "metadata": {
  "kernelspec": {
   "display_name": "Python 3",
   "language": "python",
   "name": "python3"
  },
  "language_info": {
   "codemirror_mode": {
    "name": "ipython",
    "version": 3
   },
   "file_extension": ".py",
   "mimetype": "text/x-python",
   "name": "python",
   "nbconvert_exporter": "python",
   "pygments_lexer": "ipython3",
   "version": "3.7.6"
  }
 },
 "nbformat": 4,
 "nbformat_minor": 4
}
