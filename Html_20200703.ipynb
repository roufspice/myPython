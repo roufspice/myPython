{
 "cells": [
  {
   "cell_type": "code",
   "execution_count": 1,
   "metadata": {},
   "outputs": [],
   "source": [
    "from bs4 import BeautifulSoup as bs\n",
    "import requests\n",
    "import pandas as pd\n",
    "import re\n",
    "#파이썬에서 정규식을 사용하기 위한 패키지!"
   ]
  },
  {
   "cell_type": "code",
   "execution_count": 2,
   "metadata": {},
   "outputs": [
    {
     "name": "stdout",
     "output_type": "stream",
     "text": [
      "http://dart.fss.or.kr/dsac001/mainAll.do?selectDate=2017.03.28&sort=&series=&mdayCnt=0&currentPage=\n"
     ]
    }
   ],
   "source": [
    "date =\"2017.03.28\"\n",
    "basic_url = \"http://dart.fss.or.kr/dsac001/mainAll.do?selectDate=\"\n",
    "url_part = \"&sort=&series=&mdayCnt=0&currentPage=\"\n",
    "\n",
    "url = basic_url + date + url_part\n",
    "print(url)"
   ]
  },
  {
   "cell_type": "markdown",
   "metadata": {},
   "source": [
    "+ 일단 전체페이지 갖고 오기!"
   ]
  },
  {
   "cell_type": "code",
   "execution_count": 3,
   "metadata": {},
   "outputs": [],
   "source": [
    "#일단 전체 페이지 가지고 오기!\n",
    "res = requests.get(url) #urllib.request.urlopen(url)\n",
    "soup = bs(res.text, 'html.parser')\n"
   ]
  },
  {
   "cell_type": "code",
   "execution_count": null,
   "metadata": {},
   "outputs": [],
   "source": []
  },
  {
   "cell_type": "markdown",
   "metadata": {},
   "source": [
    "+ 데이터 총개수 확인!"
   ]
  },
  {
   "cell_type": "code",
   "execution_count": 4,
   "metadata": {},
   "outputs": [
    {
     "name": "stdout",
     "output_type": "stream",
     "text": [
      "0\n",
      "<p id=\"accessibility\"><a href=\"#layoutMain\">본문 바로가기</a></p>\n",
      "----------------\n",
      "1\n",
      "<p class=\"utill\">\n",
      "<!-- <ul class=\"topLink\"> -->\n",
      "<a href=\"/dsag002/loginForm.do\"><img alt=\"로그인\" src=\"/images/common/utill_login.gif\" title=\"로그인\"/></a>\n",
      "<a href=\"/dsag003/main.do\"><img alt=\"마이페이지\" src=\"/images/common/utill_mypage.gif\" title=\"마이페이지\"/></a>\n",
      "<a href=\"/dsaa003/searchGuide.do\"><img alt=\"공시업무\" src=\"/images/common/utill_gongsi.gif\" title=\"공시업무\"/></a>\n",
      "<a href=\"/introduction/content1.do\"><img alt=\"다트소개\" src=\"/images/common/utill_intro.gif\" title=\"다트소개\"/></a>\n",
      "<a href=\"https://opendart.fss.or.kr/intro/main.do\" target=\"_blank\"><img alt=\"오픈API\" src=\"/images/common/utill_openapi.gif\" title=\"오픈API\"/></a>\n",
      "<a href=\"/introduction/content6.do\"><img alt=\"RSS이용안내\" src=\"/images/common/utill_rss.gif\" title=\"RSS이용안내\"/></a>\n",
      "<a class=\"end\" href=\"/sitemap.do\"><img alt=\"사이트맵\" src=\"/images/common/utill_sitemap.gif\" title=\"사이트맵\"/></a>\n",
      "</p>\n",
      "----------------\n",
      "2\n",
      "<p class=\"tit\"><img alt=\"최근공시\" src=\"/images/common/lnb_recent_disclosure.jpg\" title=\"최근공시\"/></p>\n",
      "----------------\n",
      "3\n",
      "<p>\n",
      "<input name=\"keyword\" onkeyup=\"searchPressEnterLeftKeyword(this);\" title=\"통합검색입력\" type=\"text\"/><input alt=\"통합검색\" class=\"ibtn\" onclick=\"clickSearch();\" src=\"/images/btn/lnb_search.gif\" style=\"cursor:pointer;vertical-align: top;\" title=\"통합검색\" type=\"image\"/>\n",
      "</p>\n",
      "----------------\n",
      "4\n",
      "<p class=\"loc\"><img alt=\"홈\" src=\"/images/common/ico_home.gif\"/> &gt;\r\n",
      "\t\r\n",
      "\t<span>  최근공시\r\n",
      "\t\t\t\r\n",
      "\t\t\r\n",
      "\t\t\t\r\n",
      "\t\t\t&gt;  전체</span>\n",
      "</p>\n",
      "----------------\n",
      "5\n",
      "<p class=\"help\">\n",
      "<a href=\"\" onclick=\"scrapFeed('today'); return false;\"><img alt=\"rss주소복사\" id=\"rss\" src=\"/images/button/btn_rss.gif\" style=\"visibility:hidden\"/></a>\n",
      "<a href=\"#help\" onclick=\"openHelp(110); return false;\"><img alt=\"도움말 새창\" id=\"help\" src=\"/images/common/help.gif\"/></a>\n",
      "</p>\n",
      "----------------\n",
      "6\n",
      "<p class=\"date_choice\">\n",
      "<a class=\"date_select\" href=\"#date\" onclick=\"changeMdayCnt(this, '0'); return false;\" style=\"cursor:pointer\" title=\"03월 28일\">\r\n",
      "\t\t\t\t\t\t\t\t03월 28일\r\n",
      "\t\t\t\t\t\t\t</a>\n",
      "<a href=\"#date\" onclick=\"changeMdayCnt(this, '1'); return false;\" style=\"cursor:pointer\" title=\"03월 27일\">\r\n",
      "\t\t\t\t\t\t\t\t03월 27일\r\n",
      "\t\t\t\t\t\t\t</a>\n",
      "<a href=\"#date\" onclick=\"changeMdayCnt(this, '4'); return false;\" style=\"cursor:pointer\" title=\"03월 24일\">\r\n",
      "\t\t\t\t\t\t\t\t03월 24일\r\n",
      "\t\t\t\t\t\t\t</a>\n",
      "<a href=\"#date\" onclick=\"changeMdayCnt(this, '5'); return false;\" style=\"cursor:pointer\" title=\"03월 23일\">\r\n",
      "\t\t\t\t\t\t\t\t03월 23일\r\n",
      "\t\t\t\t\t\t\t</a>\n",
      "<a href=\"#date\" onclick=\"changeMdayCnt(this, '6'); return false;\" style=\"cursor:pointer\" title=\"03월 22일\">\r\n",
      "\t\t\t\t\t\t\t\t03월 22일\r\n",
      "\t\t\t\t\t\t\t</a>\n",
      "<a class=\"selectDate\" href=\"#calDate\" id=\"calDate\" onclick=\"selectDate2(); return false;\" style=\"cursor:pointer\" title=\"날짜선택\">날짜선택</a>\n",
      "</p>\n",
      "----------------\n",
      "7\n",
      "<p class=\"table_tit\">\n",
      "<b>\r\n",
      "\t\t\r\n",
      "\t\t\r\n",
      "\t\t\r\n",
      "\t\t\r\n",
      "        \r\n",
      "        \r\n",
      "\t\t전체\r\n",
      "\t\t  894건\r\n",
      "\t\t\r\n",
      "\t\t\t\r\n",
      "\t\t\t\t\r\n",
      "\t\t\t\t\t\r\n",
      "\t\t\t\t\t(2017년 03월 28일)\r\n",
      "\t\t\t\t\r\n",
      "\t\t\t\r\n",
      "\t\t\t\t\r\n",
      "\t\t\t\r\n",
      "\t\t\t\t\r\n",
      "\t\t\t\r\n",
      "\t\t\t\t\r\n",
      "\t\t\t\r\n",
      "\t\t\t\t\r\n",
      "\t\t\t\r\n",
      "\t\t\r\n",
      "\t</b></p>\n",
      "----------------\n",
      "8\n",
      "<p class=\"page_info\">\r\n",
      "\t\t[1/9] [총 894건]\r\n",
      "\t</p>\n",
      "----------------\n",
      "9\n",
      "<p class=\"des\">\r\n",
      "\t상기 <span>보고서명</span> 앞의 대괄호([]) 및 <span>비고</span>란의 약어(예:<img alt=\"정정신고\" src=\"/images/common/ico_correct_report.gif\" style=\"vertical-align:middle; padding-bottom:2px; \" title=\"본 보고서 제출 후 정정신고가 있으니 관련 보고서를 참조하시기 바람\"/>)에 마우스를 위치하면 설명이 나타나니 참고하시기 바랍니다.\r\n",
      "</p>\n",
      "----------------\n",
      "10\n",
      "<p class=\"qr_code\"><a href=\"https://opendart.fss.or.kr\" target=\"_blank\" title=\"오픈다트 바로가기\"><img alt=\"오픈다트 바로가기\" src=\"/images/common/opendart.png\"/></a></p>\n",
      "----------------\n",
      "11\n",
      "<p class=\"qr_code\"><a href=\"/info/main.do\" target=\"_blank\" title=\"기업공시길라잡이 바로가기\"><img alt=\"기업공시길라잡이 바로가기\" src=\"/images/common/dart_info.jpg\"/></a></p>\n",
      "----------------\n",
      "12\n",
      "<p class=\"qr_code\"><a href=\"#help\" onclick=\"openHelp(); return false;\" title=\"이용자가이드 바로가기\"><img alt=\"이용자가이드 바로가기\" src=\"/images/common/guide.gif\"/></a></p>\n",
      "----------------\n",
      "13\n",
      "<p class=\"qr_code\"><img alt=\"모바일전자공시 QR코드 (http://mdart.fss.or.kr 모바일 사이트로 이동)\" src=\"/images/common/qr.gif\"/></p>\n",
      "----------------\n",
      "14\n",
      "<p class=\"f_logo\" style=\"margin-left:80px;\"><img alt=\"금융감독원\" src=\"/images/common/f_logo.gif\" title=\"금융감독원\"/></p>\n",
      "----------------\n",
      "15\n",
      "<p><img alt=\"서울특별시 영등포구 여의대로 38 대표전화 : 02)3145-5114 Copyright ⓒ FINANCIAL SUPERVISORY SERVICE All Rights Reserved.\" src=\"/images/common/f_addr.gif\" title=\"서울특별시 영등포구 여의대로 38\n",
      "대표전화 : 02)3145-5114\n",
      "Copyright ⓒ FINANCIAL SUPERVISORY SERVICE All Rights Reserved.\"/></p>\n",
      "----------------\n",
      "16\n",
      "<p><img alt=\"홈페이지 이용문의 : (국번없이)1332 (5번-&gt;1번-&gt;1번) 기업공시 제도문의 : (국번없이)1332 (5번-&gt;1번-&gt;2,3,4,5번)\" src=\"/images/common/f_tel1.gif\" title=\"홈페이지 이용문의 :\n",
      "(국번없이)1332 (5번-&gt;1번-&gt;1번)\n",
      "기업공시 제도문의 :\n",
      "(국번없이)1332 (5번-&gt;1번-&gt;2,3,4,5번)\"/></p>\n",
      "----------------\n",
      "17\n",
      "<p style=\"margin-top:12px;\"><img alt=\"ISO 20000 인증\" src=\"/images/common/ISOIEC_20000-1_with_UKAS.jpg\" title=\"ISO 20000 인증\"/></p>\n",
      "----------------\n"
     ]
    }
   ],
   "source": [
    "for i in range(len(soup.find_all('p'))):\n",
    "    print(i)\n",
    "    print(soup.find_all('p')[i])\n",
    "    print(\"----------------\")\n",
    "    "
   ]
  },
  {
   "cell_type": "code",
   "execution_count": null,
   "metadata": {},
   "outputs": [],
   "source": []
  },
  {
   "cell_type": "code",
   "execution_count": null,
   "metadata": {},
   "outputs": [],
   "source": []
  },
  {
   "cell_type": "markdown",
   "metadata": {},
   "source": [
    "### 파이썬 정규식 구현"
   ]
  },
  {
   "cell_type": "markdown",
   "metadata": {},
   "source": [
    "#### <font color=blue>+ re.sub(\"찾을패턴\",\"변경값\",대상)</font>\n",
    "#### <font color=blue>+ re.findall(r\"[]{}\",대상)</font>\n",
    "#### <font color=blue>strip()</font>\n",
    "#### <font color=blue>a.replace(대상, 변경값)</font>\n",
    "#### <font color=blue>strip()</font>"
   ]
  },
  {
   "cell_type": "code",
   "execution_count": 5,
   "metadata": {},
   "outputs": [
    {
     "data": {
      "text/plain": [
       "'\\r\\n\\t\\t[1/9] [총 894건]\\r\\n\\t'"
      ]
     },
     "execution_count": 5,
     "metadata": {},
     "output_type": "execute_result"
    }
   ],
   "source": [
    "soup.find_all('p')[8].text\n",
    "totNum = soup.find_all('p')[8].text\n",
    "totNum"
   ]
  },
  {
   "cell_type": "markdown",
   "metadata": {},
   "source": [
    "re.sub(찾을패턴,찾고나서 변경할 값, 어디서할지 대상)"
   ]
  },
  {
   "cell_type": "code",
   "execution_count": 6,
   "metadata": {},
   "outputs": [
    {
     "data": {
      "text/plain": [
       "'\\r\\n\\t\\t[1/9]  894건]\\r\\n\\t'"
      ]
     },
     "execution_count": 6,
     "metadata": {},
     "output_type": "execute_result"
    }
   ],
   "source": [
    "re.sub(r\"\\[총\",\"\",totNum)"
   ]
  },
  {
   "cell_type": "code",
   "execution_count": 7,
   "metadata": {},
   "outputs": [
    {
     "data": {
      "text/plain": [
       "'894'"
      ]
     },
     "execution_count": 7,
     "metadata": {},
     "output_type": "execute_result"
    }
   ],
   "source": [
    "totNum = re.sub(\"\\\\[.*\\\\] \\\\[\",\"\",totNum)\n",
    "totNum\n",
    "totNum = re.sub(r\"총\",\"\",totNum)\n",
    "\n",
    "totNum =re.sub(r\"건\\]\",\"\",totNum)\n",
    "totNum.strip()\n"
   ]
  },
  {
   "cell_type": "markdown",
   "metadata": {},
   "source": [
    "+ 앞과 뒤만 제거해주는 .strip()\n",
    "+ a.replace(찾을패턴, 변경값)\n",
    "+ re.sub(찾을패턴, 변경값, 대상)\n",
    "\n"
   ]
  },
  {
   "cell_type": "code",
   "execution_count": 8,
   "metadata": {
    "scrolled": true
   },
   "outputs": [
    {
     "data": {
      "text/plain": [
       "'aaaa bbbbb          cccc'"
      ]
     },
     "execution_count": 8,
     "metadata": {},
     "output_type": "execute_result"
    }
   ],
   "source": [
    "a = \"   aaaa bbbbb          cccc    \"\n",
    "a.strip()"
   ]
  },
  {
   "cell_type": "code",
   "execution_count": 9,
   "metadata": {},
   "outputs": [
    {
     "data": {
      "text/plain": [
       "'aaaabbbbbcccc'"
      ]
     },
     "execution_count": 9,
     "metadata": {},
     "output_type": "execute_result"
    }
   ],
   "source": [
    "# a.replace(찾을 패턴, 바꾸는 값)\n",
    "# re.sub(찾을패턴, 변경값, 대상)\n",
    "a.replace(\" \",\"\")\n"
   ]
  },
  {
   "cell_type": "code",
   "execution_count": null,
   "metadata": {},
   "outputs": [],
   "source": []
  },
  {
   "cell_type": "code",
   "execution_count": 10,
   "metadata": {},
   "outputs": [
    {
     "data": {
      "text/plain": [
       "'\\r\\n\\t\\t[1/9] [총 894건]\\r\\n\\t'"
      ]
     },
     "execution_count": 10,
     "metadata": {},
     "output_type": "execute_result"
    }
   ],
   "source": [
    "soup.find_all('p')[8].text\n",
    "totNum = soup.find_all('p')[8].text\n",
    "totNum"
   ]
  },
  {
   "cell_type": "markdown",
   "metadata": {},
   "source": [
    " + 처리해야할 정보의 총 갯수 totNum"
   ]
  },
  {
   "cell_type": "code",
   "execution_count": 11,
   "metadata": {},
   "outputs": [
    {
     "data": {
      "text/plain": [
       "894"
      ]
     },
     "execution_count": 11,
     "metadata": {},
     "output_type": "execute_result"
    }
   ],
   "source": [
    "#내가 처리해야할 건수에 대한 정보 확인...\n",
    "totNum=re.sub(r\"\\[.*\\] \\[총 \",\"\",totNum)\n",
    "totNum = re.sub(r\"건\\]\",\"\",totNum)\n",
    "totNum= int(totNum.strip())\n",
    "totNum"
   ]
  },
  {
   "cell_type": "markdown",
   "metadata": {},
   "source": [
    "+ totNum의 값을 갖고 몇개의 페이지를 만들까"
   ]
  },
  {
   "cell_type": "code",
   "execution_count": 12,
   "metadata": {},
   "outputs": [
    {
     "data": {
      "text/plain": [
       "9"
      ]
     },
     "execution_count": 12,
     "metadata": {},
     "output_type": "execute_result"
    }
   ],
   "source": [
    "# totNum의 값을 갖고 몇 개의 페에지를 돌아야 하는지 찾아보기\n",
    "totPage = (totNum//100) +1\n",
    "totPage"
   ]
  },
  {
   "cell_type": "code",
   "execution_count": null,
   "metadata": {},
   "outputs": [],
   "source": []
  },
  {
   "cell_type": "markdown",
   "metadata": {},
   "source": [
    "+ totNum의 값을 갖고 1페이지에는 몇건의 정보가 있을까"
   ]
  },
  {
   "cell_type": "code",
   "execution_count": 13,
   "metadata": {},
   "outputs": [
    {
     "data": {
      "text/plain": [
       "101"
      ]
     },
     "execution_count": 13,
     "metadata": {},
     "output_type": "execute_result"
    }
   ],
   "source": [
    "# 1페이지에는 몇 건의 공시 정보가 있는지 찾아보기\n",
    "len(soup.find_all('tr'))"
   ]
  },
  {
   "cell_type": "code",
   "execution_count": 14,
   "metadata": {},
   "outputs": [
    {
     "data": {
      "text/plain": [
       "<tr>\n",
       "<th scope=\"col\">시간</th>\n",
       "<th scope=\"col\">공시대상회사</th>\n",
       "<th scope=\"col\">보고서명</th>\n",
       "<th scope=\"col\">제출인</th>\n",
       "<th scope=\"col\">접수일자</th>\n",
       "<th scope=\"col\">비고</th>\n",
       "</tr>"
      ]
     },
     "execution_count": 14,
     "metadata": {},
     "output_type": "execute_result"
    }
   ],
   "source": [
    "soup.find_all('tr')[0]"
   ]
  },
  {
   "cell_type": "code",
   "execution_count": 15,
   "metadata": {},
   "outputs": [
    {
     "data": {
      "text/plain": [
       "<tr>\n",
       "<td class=\"cen_txt\">\n",
       "\t\t\t\t\t\t18:46\n",
       "\t\t\t\t\t</td>\n",
       "<td>\n",
       "<span class=\"nobr1\" style=\"max-width:150px;\">\n",
       "<img alt=\"코스닥시장\" src=\"/images/ico_kosdaq.gif\" title=\"코스닥시장\"/> \n",
       "\t\t\t\t\t\t\t<a href=\"/dsae001/selectPopup.ax?selectKey=00364403\" onclick=\"openCorpInfo('00364403'); return false;\" title=\"쏠리드 기업개황 새창\">\n",
       "\t\t\t\t\t\t\t\t쏠리드\n",
       "\t\t\t\t\t\t\t</a>\n",
       "</span>\n",
       "</td>\n",
       "<td>\n",
       "<a href=\"/dsaf001/main.do?rcpNo=20170328901048\" id=\"r_20170328901048\" onclick=\"openReportViewer('20170328901048'); return false;\" title=\"불성실공시법인지정예고(공시불이행) 공시뷰어 새창\">불성실공시법인지정예고\n",
       "\t\t\t\t\t\t\t\n",
       "  \t\t\t\t\t\t\t(공시불이행)\n",
       "\t\t\t\t\t\t</a>\n",
       "</td>\n",
       "<td title=\"코스닥시장본부\"><div class=\"nobr\" style=\"width:95px\">코스닥시장본부</div></td>\n",
       "<td class=\"cen_txt\">2017.03.28</td>\n",
       "<td class=\"cen_txt end\"> <img alt=\"본 공시사항은 한국거래소 코스닥시장본부 소관임\" hspace=\"1\" src=\"/images/sub/remark05.gif\" title=\"본 공시사항은 한국거래소 코스닥시장본부 소관임\"/></td>\n",
       "</tr>"
      ]
     },
     "execution_count": 15,
     "metadata": {},
     "output_type": "execute_result"
    }
   ],
   "source": [
    "soup.find_all('tr')[2]"
   ]
  },
  {
   "cell_type": "markdown",
   "metadata": {},
   "source": [
    "soup.find_all('tr')[2].find('td').text.strip()"
   ]
  },
  {
   "cell_type": "code",
   "execution_count": null,
   "metadata": {},
   "outputs": [],
   "source": []
  },
  {
   "cell_type": "markdown",
   "metadata": {},
   "source": [
    "+ class와 태그를 활용해서 접근하기"
   ]
  },
  {
   "cell_type": "code",
   "execution_count": 16,
   "metadata": {
    "scrolled": true
   },
   "outputs": [
    {
     "data": {
      "text/plain": [
       "'18:46'"
      ]
     },
     "execution_count": 16,
     "metadata": {},
     "output_type": "execute_result"
    }
   ],
   "source": [
    "soup.find_all(\"tr\")[2].find_all('td', class_=\"cen_txt\")[0].text.strip()"
   ]
  },
  {
   "cell_type": "code",
   "execution_count": 17,
   "metadata": {},
   "outputs": [
    {
     "data": {
      "text/plain": [
       "'쏠리드'"
      ]
     },
     "execution_count": 17,
     "metadata": {},
     "output_type": "execute_result"
    }
   ],
   "source": [
    "soup.find_all('tr')[2].find(\"a\").text.strip()"
   ]
  },
  {
   "cell_type": "code",
   "execution_count": 18,
   "metadata": {
    "scrolled": true
   },
   "outputs": [
    {
     "data": {
      "text/plain": [
       "'코스닥시장'"
      ]
     },
     "execution_count": 18,
     "metadata": {},
     "output_type": "execute_result"
    }
   ],
   "source": [
    "soup.find_all(\"tr\")[2].find_all(\"td\")[1].find('img').get(\"title\")\n",
    "#속성을 가져올때는 .get()\n"
   ]
  },
  {
   "cell_type": "code",
   "execution_count": 19,
   "metadata": {},
   "outputs": [
    {
     "data": {
      "text/plain": [
       "'/dsae001/selectPopup.ax?selectKey=00364403'"
      ]
     },
     "execution_count": 19,
     "metadata": {},
     "output_type": "execute_result"
    }
   ],
   "source": [
    "soup.find_all('tr')[2].find_all(\"a\")[0].get(\"href\")\n",
    "#연속된숫자8자리...  ---> 정규식 [0-9]{8}"
   ]
  },
  {
   "cell_type": "code",
   "execution_count": 20,
   "metadata": {},
   "outputs": [
    {
     "data": {
      "text/plain": [
       "'00364403'"
      ]
     },
     "execution_count": 20,
     "metadata": {},
     "output_type": "execute_result"
    }
   ],
   "source": [
    "t_str = soup.find_all('tr')[2].find_all(\"a\")[0].get(\"href\")\n",
    "t_str = re.sub(r\"\\/dsae001\\/selectPopup.ax\\?selectKey=\",\"\",t_str)\n",
    "t_str"
   ]
  },
  {
   "cell_type": "markdown",
   "metadata": {},
   "source": [
    "+ re.findall(r\"\",대상)\n",
    "+ [0-9]{8}"
   ]
  },
  {
   "cell_type": "markdown",
   "metadata": {},
   "source": [
    "+ 시장종류(코넥스, 코스닥): cat\n",
    "+ 회사이름: company\n",
    "+ 회사ID: coID\n",
    "+ 공시내용/제목 : content\n",
    "+ 해당공시 고유값: rcpNo\n",
    "+ 공시제출시간: pubTime\n",
    "+ 공시요청날짜: reqDate\n",
    "+ 공시날짜: pubDate"
   ]
  },
  {
   "cell_type": "markdown",
   "metadata": {},
   "source": [
    "### <font color=red>실습</font>"
   ]
  },
  {
   "cell_type": "code",
   "execution_count": 21,
   "metadata": {},
   "outputs": [
    {
     "name": "stdout",
     "output_type": "stream",
     "text": [
      "18:46\n",
      "코스닥시장\n",
      "쏠리드\n",
      "00364403\n",
      "불성실공시법인지정예고(공시불이행)\n",
      "20170328901048\n",
      "2017.03.28\n",
      "2017.03.28\n"
     ]
    }
   ],
   "source": [
    "#공시제출시간(pubTime)\n",
    "pubTime_samp = soup.find_all(\"tr\")[2].find_all(\"td\", class_=\"cen_txt\")[0].text.strip()\n",
    "print(pubTime_samp)\n",
    "\n",
    "#시장종류가져오기(cat)\n",
    "cat_samp = soup.find_all(\"tr\")[2].find('img').get('title')\n",
    "print(cat_samp)\n",
    "\n",
    "#회사이름 가져오기(company)\n",
    "company_samp = soup.find_all('tr')[2].find(\"a\").text.strip()\n",
    "print(company_samp)\n",
    "\n",
    "\n",
    "#회사코드 가져오기(coID)\n",
    "coID_samp = soup.find_all('tr')[2].find_all(\"a\")[0].get(\"href\")\n",
    "coID_samp = re.findall(r\"[0-9]{8}\",coID_samp)[0]\n",
    "print(coID_samp)\n",
    "\n",
    "#공시이름 가져오기(content)\n",
    "content_samp = soup.find_all('tr')[2].find_all('a')[1].text.strip()\n",
    "content_samp= content_samp.replace(\"\\r\",\"\")\n",
    "content_samp = content_samp.replace(\"\\n\",\"\")\n",
    "content_samp = content_samp.replace(\"\\t\",\"\")\n",
    "content_samp = content_samp.replace(\" \",\"\")\n",
    "print(content_samp)\n",
    "\n",
    "#해당공시 고유값(rcpNo)\n",
    "rcpNo_samp = soup.find_all('tr')[2].find_all(\"a\")[1].get('href')\n",
    "rcpNo_samp = re.findall(r\"[0-9]{14}\",rcpNo_samp)[0]\n",
    "print(rcpNo_samp)\n",
    "\n",
    "#공시날짜(pubDate)\n",
    "pubDate_samp= date\n",
    "print(pubDate_samp)\n",
    "\n",
    "#공시요청날짜(reqDate)\n",
    "reqDate_samp = soup.find_all(\"tr\")[2].find_all('td', class_='cen_txt')[1].text\n",
    "print(reqDate_samp)\n"
   ]
  },
  {
   "cell_type": "code",
   "execution_count": 22,
   "metadata": {},
   "outputs": [],
   "source": [
    "#해당공시 고유값"
   ]
  },
  {
   "cell_type": "code",
   "execution_count": null,
   "metadata": {},
   "outputs": [],
   "source": []
  },
  {
   "cell_type": "code",
   "execution_count": null,
   "metadata": {},
   "outputs": [],
   "source": []
  },
  {
   "cell_type": "code",
   "execution_count": null,
   "metadata": {},
   "outputs": [],
   "source": []
  },
  {
   "cell_type": "code",
   "execution_count": null,
   "metadata": {},
   "outputs": [],
   "source": []
  },
  {
   "cell_type": "code",
   "execution_count": null,
   "metadata": {},
   "outputs": [],
   "source": []
  },
  {
   "cell_type": "markdown",
   "metadata": {},
   "source": [
    "## 첫번째 페이지 가져오기"
   ]
  },
  {
   "cell_type": "markdown",
   "metadata": {},
   "source": [
    "+ 1페이지의 100건의 필요한 정보 출력하기\n",
    "+ DF담기\n",
    "+ 모든페이지 돌아가면서 DF담기"
   ]
  },
  {
   "cell_type": "code",
   "execution_count": 23,
   "metadata": {},
   "outputs": [
    {
     "ename": "NameError",
     "evalue": "name 'list_samp' is not defined",
     "output_type": "error",
     "traceback": [
      "\u001b[1;31m---------------------------------------------------------------------------\u001b[0m",
      "\u001b[1;31mNameError\u001b[0m                                 Traceback (most recent call last)",
      "\u001b[1;32m<ipython-input-23-d461fced75d3>\u001b[0m in \u001b[0;36m<module>\u001b[1;34m\u001b[0m\n\u001b[1;32m----> 1\u001b[1;33m \u001b[0mlist_samp\u001b[0m\u001b[1;33m[\u001b[0m\u001b[1;36m10\u001b[0m\u001b[1;33m]\u001b[0m\u001b[1;33m.\u001b[0m\u001b[0mfind_all\u001b[0m\u001b[1;33m(\u001b[0m\u001b[1;34m'a'\u001b[0m\u001b[1;33m)\u001b[0m\u001b[1;33m[\u001b[0m\u001b[1;36m1\u001b[0m\u001b[1;33m]\u001b[0m\u001b[1;33m.\u001b[0m\u001b[0mtext\u001b[0m\u001b[1;33m.\u001b[0m\u001b[0mstrip\u001b[0m\u001b[1;33m(\u001b[0m\u001b[1;33m)\u001b[0m\u001b[1;33m\u001b[0m\u001b[1;33m\u001b[0m\u001b[0m\n\u001b[0m",
      "\u001b[1;31mNameError\u001b[0m: name 'list_samp' is not defined"
     ]
    }
   ],
   "source": [
    "list_samp[10].find_all('a')[1].text.strip()"
   ]
  },
  {
   "cell_type": "code",
   "execution_count": null,
   "metadata": {},
   "outputs": [],
   "source": [
    "re.sub(r\"\\n|\\t|\\r\", \"\",'기타시장안내\\r\\n\\t\\t\\t\\t\\t\\t\\t\\r\\n  \\t\\t\\t\\t\\t\\t\\t(상장폐지 관련 이의신청서 접수)' )"
   ]
  },
  {
   "cell_type": "code",
   "execution_count": 109,
   "metadata": {},
   "outputs": [
    {
     "name": "stdout",
     "output_type": "stream",
     "text": [
      "<class 'requests.models.Response'>\n",
      "<class 'bs4.BeautifulSoup'>\n"
     ]
    },
    {
     "data": {
      "text/html": [
       "<div>\n",
       "<style scoped>\n",
       "    .dataframe tbody tr th:only-of-type {\n",
       "        vertical-align: middle;\n",
       "    }\n",
       "\n",
       "    .dataframe tbody tr th {\n",
       "        vertical-align: top;\n",
       "    }\n",
       "\n",
       "    .dataframe thead th {\n",
       "        text-align: right;\n",
       "    }\n",
       "</style>\n",
       "<table border=\"1\" class=\"dataframe\">\n",
       "  <thead>\n",
       "    <tr style=\"text-align: right;\">\n",
       "      <th></th>\n",
       "      <th>cat</th>\n",
       "      <th>coID</th>\n",
       "      <th>comName</th>\n",
       "      <th>content</th>\n",
       "      <th>pubDate</th>\n",
       "      <th>pubTime</th>\n",
       "      <th>rcpNo</th>\n",
       "      <th>reqDate</th>\n",
       "    </tr>\n",
       "  </thead>\n",
       "  <tbody>\n",
       "    <tr>\n",
       "      <th>0</th>\n",
       "      <td>코넥스시장</td>\n",
       "      <td>01109690</td>\n",
       "      <td>도부마스크</td>\n",
       "      <td>감사보고서제출</td>\n",
       "      <td>2017.03.28</td>\n",
       "      <td>18:58</td>\n",
       "      <td>20170328601049</td>\n",
       "      <td>2017.03.28</td>\n",
       "    </tr>\n",
       "    <tr>\n",
       "      <th>1</th>\n",
       "      <td>코스닥시장</td>\n",
       "      <td>00364403</td>\n",
       "      <td>쏠리드</td>\n",
       "      <td>불성실공시법인지정예고(공시불이행)</td>\n",
       "      <td>2017.03.28</td>\n",
       "      <td>18:46</td>\n",
       "      <td>20170328901048</td>\n",
       "      <td>2017.03.28</td>\n",
       "    </tr>\n",
       "    <tr>\n",
       "      <th>2</th>\n",
       "      <td>코스닥시장</td>\n",
       "      <td>00308559</td>\n",
       "      <td>코디</td>\n",
       "      <td>주권매매거래정지(불성실공시법인지정)</td>\n",
       "      <td>2017.03.28</td>\n",
       "      <td>18:35</td>\n",
       "      <td>20170328901037</td>\n",
       "      <td>2017.03.28</td>\n",
       "    </tr>\n",
       "    <tr>\n",
       "      <th>3</th>\n",
       "      <td>코스닥시장</td>\n",
       "      <td>00308559</td>\n",
       "      <td>코디</td>\n",
       "      <td>불성실공시법인지정(공시불이행)</td>\n",
       "      <td>2017.03.28</td>\n",
       "      <td>18:35</td>\n",
       "      <td>20170328901047</td>\n",
       "      <td>2017.03.28</td>\n",
       "    </tr>\n",
       "    <tr>\n",
       "      <th>4</th>\n",
       "      <td>기타법인</td>\n",
       "      <td>00207223</td>\n",
       "      <td>위너지스</td>\n",
       "      <td>주권매매거래정지(불성실공시법인지정)</td>\n",
       "      <td>2017.03.28</td>\n",
       "      <td>18:29</td>\n",
       "      <td>20170328901039</td>\n",
       "      <td>2017.03.28</td>\n",
       "    </tr>\n",
       "    <tr>\n",
       "      <th>...</th>\n",
       "      <td>...</td>\n",
       "      <td>...</td>\n",
       "      <td>...</td>\n",
       "      <td>...</td>\n",
       "      <td>...</td>\n",
       "      <td>...</td>\n",
       "      <td>...</td>\n",
       "      <td>...</td>\n",
       "    </tr>\n",
       "    <tr>\n",
       "      <th>95</th>\n",
       "      <td>코스닥시장</td>\n",
       "      <td>00489243</td>\n",
       "      <td>동아엘텍</td>\n",
       "      <td>주요사항보고서(자기주식처분결정)</td>\n",
       "      <td>2017.03.28</td>\n",
       "      <td>17:31</td>\n",
       "      <td>20170328000804</td>\n",
       "      <td>2017.03.28</td>\n",
       "    </tr>\n",
       "    <tr>\n",
       "      <th>96</th>\n",
       "      <td>기타법인</td>\n",
       "      <td>00784643</td>\n",
       "      <td>성남시민프로축구단</td>\n",
       "      <td>사업보고서(2016.12)</td>\n",
       "      <td>2017.03.28</td>\n",
       "      <td>17:31</td>\n",
       "      <td>20170328000825</td>\n",
       "      <td>2017.03.28</td>\n",
       "    </tr>\n",
       "    <tr>\n",
       "      <th>97</th>\n",
       "      <td>기타법인</td>\n",
       "      <td>00526173</td>\n",
       "      <td>인사사랑</td>\n",
       "      <td>감사보고서(2016.12)</td>\n",
       "      <td>2017.03.28</td>\n",
       "      <td>17:31</td>\n",
       "      <td>20170328000823</td>\n",
       "      <td>2017.03.28</td>\n",
       "    </tr>\n",
       "    <tr>\n",
       "      <th>98</th>\n",
       "      <td>기타법인</td>\n",
       "      <td>00567666</td>\n",
       "      <td>도원엔지니어링건축사사무소</td>\n",
       "      <td>감사보고서(2016.12)</td>\n",
       "      <td>2017.03.28</td>\n",
       "      <td>17:30</td>\n",
       "      <td>20170328000821</td>\n",
       "      <td>2017.03.28</td>\n",
       "    </tr>\n",
       "    <tr>\n",
       "      <th>99</th>\n",
       "      <td>코스닥시장</td>\n",
       "      <td>00657987</td>\n",
       "      <td>KMH</td>\n",
       "      <td></td>\n",
       "      <td>2017.03.28</td>\n",
       "      <td>17:30</td>\n",
       "      <td>20170328900922</td>\n",
       "      <td>2017.03.28</td>\n",
       "    </tr>\n",
       "  </tbody>\n",
       "</table>\n",
       "<p>100 rows × 8 columns</p>\n",
       "</div>"
      ],
      "text/plain": [
       "      cat      coID        comName              content     pubDate pubTime  \\\n",
       "0   코넥스시장  01109690          도부마스크              감사보고서제출  2017.03.28   18:58   \n",
       "1   코스닥시장  00364403            쏠리드   불성실공시법인지정예고(공시불이행)  2017.03.28   18:46   \n",
       "2   코스닥시장  00308559             코디  주권매매거래정지(불성실공시법인지정)  2017.03.28   18:35   \n",
       "3   코스닥시장  00308559             코디     불성실공시법인지정(공시불이행)  2017.03.28   18:35   \n",
       "4    기타법인  00207223           위너지스  주권매매거래정지(불성실공시법인지정)  2017.03.28   18:29   \n",
       "..    ...       ...            ...                  ...         ...     ...   \n",
       "95  코스닥시장  00489243           동아엘텍    주요사항보고서(자기주식처분결정)  2017.03.28   17:31   \n",
       "96   기타법인  00784643      성남시민프로축구단       사업보고서(2016.12)  2017.03.28   17:31   \n",
       "97   기타법인  00526173           인사사랑       감사보고서(2016.12)  2017.03.28   17:31   \n",
       "98   기타법인  00567666  도원엔지니어링건축사사무소       감사보고서(2016.12)  2017.03.28   17:30   \n",
       "99  코스닥시장  00657987            KMH                       2017.03.28   17:30   \n",
       "\n",
       "             rcpNo     reqDate  \n",
       "0   20170328601049  2017.03.28  \n",
       "1   20170328901048  2017.03.28  \n",
       "2   20170328901037  2017.03.28  \n",
       "3   20170328901047  2017.03.28  \n",
       "4   20170328901039  2017.03.28  \n",
       "..             ...         ...  \n",
       "95  20170328000804  2017.03.28  \n",
       "96  20170328000825  2017.03.28  \n",
       "97  20170328000823  2017.03.28  \n",
       "98  20170328000821  2017.03.28  \n",
       "99  20170328900922  2017.03.28  \n",
       "\n",
       "[100 rows x 8 columns]"
      ]
     },
     "execution_count": 109,
     "metadata": {},
     "output_type": "execute_result"
    }
   ],
   "source": [
    "from bs4 import BeautifulSoup as bs\n",
    "import requests\n",
    "import pandas as pd\n",
    "import re\n",
    "\n",
    "date =\"2017.03.28\"\n",
    "basic_url = \"http://dart.fss.or.kr/dsac001/mainAll.do?selectDate=\"\n",
    "url_part = \"&sort=&series=&mdayCnt=0&currentPage=\"\n",
    "\n",
    "url = basic_url + date + url_part\n",
    "res = requests.get(url)\n",
    "# crawling - parsing(개발자)\n",
    "soup = bs(res.text,\"html.parser\")\n",
    "\n",
    "\n",
    "#DF만들기\n",
    "dartDF = pd.DataFrame()\n",
    "dartDF_temp = pd.DataFrame()\n",
    "\n",
    "dartDF_temp = dartDF_temp.append({\"cat\":\"\",\"comName\":\"\",\"coID\":\"\",\"content\":\"\",\"rcpNo\":\"\",\"pubTime\":\"\",\"pubDate\":\"\",\"reqDate\":\"\"}, ignore_index=True)\n",
    "\n",
    "\n",
    "#len(soup.find_all('tr'))\n",
    "\n",
    "for i in range(1, len(soup.find_all(\"tr\"))):\n",
    "    list_samp = soup.find_all(\"tr\")\n",
    "    \n",
    "    #columns 지정하기\n",
    "    \n",
    "    #cat_samp\n",
    "    cat_samp = list_samp[i].find('img').get('title')\n",
    "    #comName_samp\n",
    "    comName_samp = list_samp[i].find(\"a\").text.strip()\n",
    "    #coID_samp\n",
    "    coID_samp = re.findall(r\"[0-9]{8}\",list_samp[i].find_all(\"a\")[0].get(\"href\"))[0]\n",
    "    #content_samp\n",
    "    content_samp = list_samp[i].find_all('a')[1].text.strip()\n",
    "    content_samp = content_samp.replace(\"\\r\",\"\")\n",
    "    content_samp = content_samp.replace(\"\\n\",\"\")\n",
    "    content_samp = content_samp.replace(\"\\t\",\"\")\n",
    "    content_samp = content_samp.replace(\" \",\"\")\n",
    "    #pubTime_samp\n",
    "    pubTime_samp = list_samp[i].find_all(\"td\", class_=\"cen_txt\")[0].text.strip()\n",
    "    #rcpNo_samp\n",
    "    rcpNo_samp = list_samp[i].find_all('td')[2].find(\"a\").get(\"href\")\n",
    "    rcpNo_samp = re.findall(r\"[0-9]{14}\",rcpNo_samp)[0]\n",
    "    #pubDate_samp\n",
    "    pubDate_samp = date\n",
    "    #reqDate_samp\n",
    "    reqDate_samp = list_samp[i].find_all('td', class_='cen_txt')[1].text\n",
    "    \n",
    "    \n",
    "    #df에 넣기\n",
    "    dartDF_temp.iat[0,dartDF_temp.columns.get_loc(\"cat\")] = cat_samp\n",
    "    dartDF_temp.iat[0,dartDF_temp.columns.get_loc(\"comName\")] = comName_samp\n",
    "    dartDF_temp.iat[0,dartDF_temp.columns.get_loc(\"coID\")] = coID_samp\n",
    "    dartDF_temp.iat[0,dartDF_temp.columns.get_loc(\"content\")] = content_samp\n",
    "    dartDF_temp.iat[0,dartDF_temp.columns.get_loc(\"rcpNo\")] = rcpNo_samp\n",
    "    dartDF_temp.iat[0,dartDF_temp.columns.get_loc(\"pubTime\")] = pubTime_samp\n",
    "    dartDF_temp.iat[0,dartDF_temp.columns.get_loc(\"pubDate\")] = pubDate_samp\n",
    "    dartDF_temp.iat[0,dartDF_temp.columns.get_loc(\"reqDate\")] = reqDate_samp\n",
    "    #df_temp 한줄 가져와서 df에 넣기\n",
    "    dartDF = dartDF.append(dartDF_temp, ignore_index = True)\n",
    "    \n",
    "    #df_temp 초기화\n",
    "    dartDF_temp.drop(0)\n",
    "\n",
    "    \n",
    "dartDF\n",
    "    \n",
    "\n",
    "    \n",
    "    \n",
    "    \n",
    "    \n"
   ]
  },
  {
   "cell_type": "markdown",
   "metadata": {},
   "source": []
  },
  {
   "cell_type": "markdown",
   "metadata": {},
   "source": [
    "## 같은 날짜에 여러페이지 가져오기"
   ]
  },
  {
   "cell_type": "markdown",
   "metadata": {},
   "source": [
    "### <font color=red>실습2</font>"
   ]
  },
  {
   "cell_type": "code",
   "execution_count": null,
   "metadata": {},
   "outputs": [],
   "source": []
  },
  {
   "cell_type": "code",
   "execution_count": null,
   "metadata": {},
   "outputs": [],
   "source": [
    "2017.03.01~~~2017.03.31"
   ]
  },
  {
   "cell_type": "code",
   "execution_count": 127,
   "metadata": {},
   "outputs": [
    {
     "name": "stdout",
     "output_type": "stream",
     "text": [
      "2017.03.01\n",
      "2017.03.02\n",
      "2017.03.03\n",
      "2017.03.04\n",
      "2017.03.05\n",
      "2017.03.06\n",
      "2017.03.07\n",
      "2017.03.08\n",
      "2017.03.09\n",
      "2017.03.10\n",
      "2017.03.11\n",
      "2017.03.12\n",
      "2017.03.13\n",
      "2017.03.14\n",
      "2017.03.15\n",
      "2017.03.16\n",
      "2017.03.17\n",
      "2017.03.18\n",
      "2017.03.19\n",
      "2017.03.20\n",
      "2017.03.21\n",
      "2017.03.22\n",
      "2017.03.23\n",
      "2017.03.24\n",
      "2017.03.25\n",
      "2017.03.26\n",
      "2017.03.27\n",
      "2017.03.28\n",
      "2017.03.29\n",
      "2017.03.30\n",
      "2017.03.31\n"
     ]
    }
   ],
   "source": [
    "#01~31숫자를 만들면 됨...\n",
    "\"1\".zfill(2)\n",
    "for i in range(1, 32):\n",
    "    print(\"2017.03.\"+str(i).zfill(2))"
   ]
  },
  {
   "cell_type": "code",
   "execution_count": 112,
   "metadata": {
    "scrolled": true
   },
   "outputs": [
    {
     "name": "stdout",
     "output_type": "stream",
     "text": [
      "345\n"
     ]
    }
   ],
   "source": [
    "from bs4 import BeautifulSoup as bs\n",
    "import requests\n",
    "import pandas as pd\n",
    "import re\n",
    "\n",
    "date =\"2020.07.01\"\n",
    "\n",
    "year = date.split(\".\")[0]\n",
    "month = date.split(\".\")[1]\n",
    "day = date.split(\".\")[2]\n",
    "\n",
    "\n",
    "basic_url = \"http://dart.fss.or.kr/dsac001/mainAll.do?selectDate=\"\n",
    "url_part = \"&sort=&series=&mdayCnt=&currentPage=\"\n",
    "url = basic_url + date + url_part\n",
    "req = requests.get(url)\n",
    "soup = bs(req.text, \"html.parser\")\n",
    "\n",
    "#전체개수 가져오기\n",
    "totNum = soup.find('p', class_=\"table_tit\").text.strip()\n",
    "\n",
    "\n",
    "totNum = re.sub(r\"전체\",\"\",totNum)\n",
    "totNum = re.sub(r\"\\r|\\n|\\t\",\"\",totNum)\n",
    "#totNum = int(re.sub(r\"건\\(2017년 03월 28일\\)\",\"\",totNum).strip())\n",
    "totNum = totNum.replace(\"건(\"+year+\"년 \"+month+\"월 \"+day+\"일)\",\"\").strip()\n",
    "total = \"\"\n",
    "#894 ,'1,000' 1000\n",
    "for i in range(len(totNum.split(\",\"))):\n",
    "    total += totNum.split(\",\")[i]\n",
    "    \n",
    "    \n",
    "print(total)\n",
    "totNum = int(total)\n",
    "#totNum = totNum.replace(\"건(\"+year+\"년 \"+month+\"월 \"+day+\"일)\",\"\")\n",
    "#totNum = int(totNum.strip())\n",
    "\n",
    "\n",
    "#DF만들기\n",
    "dart_totalDF = pd.DataFrame()\n",
    "dart_totalDF_temp = pd.DataFrame()\n",
    "\n",
    "dart_totalDF_temp = dart_totalDF_temp.append({\"cat\":\"\",\"comName\":\"\",\"coID\":\"\",\"content\":\"\",\"rcpNo\":\"\",\"pubTime\":\"\",\"pubDate\":\"\",\"reqDate\":\"\"}, ignore_index=True)\n",
    "\n",
    "\n",
    "\n",
    "#페이지수 가져오기\n",
    "pageCount = (totNum//100)+1\n",
    "\n",
    "for j in range(1,pageCount+1):\n",
    "    URL = url + str(j)\n",
    "    soup = bs(requests.get(URL).text,\"html.parser\")\n",
    "    \n",
    "    \n",
    "    for i in range(1, len(soup.find_all(\"tr\"))):\n",
    "        list_samp = soup.find_all(\"tr\")\n",
    "\n",
    "        cat_samp = list_samp[i].find('img').get('title')\n",
    "        comName_samp = list_samp[i].find(\"a\").text.strip()\n",
    "        coID_samp = re.findall(r\"[0-9]{8}\",list_samp[i].find_all(\"a\")[0].get(\"href\"))[0]\n",
    "\n",
    "        content_samp = list_samp[i].find_all('a')[1].text.strip()\n",
    "        content_samp = content_samp.replace(\"\\r\",\"\")\n",
    "        content_samp = content_samp.replace(\"\\n\",\"\")\n",
    "        content_samp = content_samp.replace(\"\\t\",\"\")\n",
    "        content_samp = content_samp.replace(\" \",\"\")\n",
    "        #print(content_samp)\n",
    "\n",
    "        pubTime = list_samp[i].find_all(\"td\", class_=\"cen_txt\")[0].text.strip()\n",
    "\n",
    "        rcpNo_samp = list_samp[i].find_all('td')[2].find(\"a\").get(\"href\")\n",
    "        rcpNo_samp = re.findall(r\"[0-9]{14}\",rcpNo_samp)[0]\n",
    "        pubDate_samp = date\n",
    "        reqDate_samp = list_samp[i].find_all('td', class_='cen_txt')[1].text\n",
    "\n",
    "\n",
    "        #df에 넣기\n",
    "        dart_totalDF_temp.iat[0,dart_totalDF_temp.columns.get_loc(\"cat\")] = cat_samp\n",
    "        dart_totalDF_temp.iat[0,dart_totalDF_temp.columns.get_loc(\"comName\")] = comName_samp\n",
    "        dart_totalDF_temp.iat[0,dart_totalDF_temp.columns.get_loc(\"coID\")] = coID_samp\n",
    "        dart_totalDF_temp.iat[0,dart_totalDF_temp.columns.get_loc(\"content\")] = content_samp\n",
    "        dart_totalDF_temp.iat[0,dart_totalDF_temp.columns.get_loc(\"rcpNo\")] = rcpNo_samp\n",
    "        dart_totalDF_temp.iat[0,dart_totalDF_temp.columns.get_loc(\"pubTime\")] = pubTime_samp\n",
    "        dart_totalDF_temp.iat[0,dart_totalDF_temp.columns.get_loc(\"pubDate\")] = pubDate_samp\n",
    "        dart_totalDF_temp.iat[0,dart_totalDF_temp.columns.get_loc(\"reqDate\")] = reqDate_samp\n",
    "\n",
    "        dart_totalDF = dart_totalDF.append(dart_totalDF_temp, ignore_index = True)\n",
    "\n",
    "\n",
    "        dart_totalDF_temp.drop(0)\n",
    "\n",
    "\n",
    "\n",
    "\n",
    "\n",
    "\n"
   ]
  },
  {
   "cell_type": "code",
   "execution_count": 100,
   "metadata": {
    "scrolled": true
   },
   "outputs": [
    {
     "data": {
      "text/html": [
       "<div>\n",
       "<style scoped>\n",
       "    .dataframe tbody tr th:only-of-type {\n",
       "        vertical-align: middle;\n",
       "    }\n",
       "\n",
       "    .dataframe tbody tr th {\n",
       "        vertical-align: top;\n",
       "    }\n",
       "\n",
       "    .dataframe thead th {\n",
       "        text-align: right;\n",
       "    }\n",
       "</style>\n",
       "<table border=\"1\" class=\"dataframe\">\n",
       "  <thead>\n",
       "    <tr style=\"text-align: right;\">\n",
       "      <th></th>\n",
       "      <th>cat</th>\n",
       "      <th>coID</th>\n",
       "      <th>comName</th>\n",
       "      <th>content</th>\n",
       "      <th>pubDate</th>\n",
       "      <th>pubTime</th>\n",
       "      <th>rcpNo</th>\n",
       "      <th>reqDate</th>\n",
       "    </tr>\n",
       "  </thead>\n",
       "  <tbody>\n",
       "    <tr>\n",
       "      <th>0</th>\n",
       "      <td>기타법인</td>\n",
       "      <td>00102760</td>\n",
       "      <td>두산건설</td>\n",
       "      <td></td>\n",
       "      <td>2020.06.15</td>\n",
       "      <td>18:46</td>\n",
       "      <td>20200615700648</td>\n",
       "      <td>2020.06.15</td>\n",
       "    </tr>\n",
       "    <tr>\n",
       "      <th>1</th>\n",
       "      <td>코스닥시장</td>\n",
       "      <td>00116426</td>\n",
       "      <td>코센</td>\n",
       "      <td>[기재정정]주요사항보고서(타법인주식및출자증권양수결정)</td>\n",
       "      <td>2020.06.15</td>\n",
       "      <td>18:46</td>\n",
       "      <td>20200615000335</td>\n",
       "      <td>2020.06.16</td>\n",
       "    </tr>\n",
       "    <tr>\n",
       "      <th>2</th>\n",
       "      <td>코스닥시장</td>\n",
       "      <td>00120906</td>\n",
       "      <td>에스아이리소스</td>\n",
       "      <td>주권매매거래정지기간변경(개선기간부여)</td>\n",
       "      <td>2020.06.15</td>\n",
       "      <td>18:46</td>\n",
       "      <td>20200615900642</td>\n",
       "      <td>2020.06.15</td>\n",
       "    </tr>\n",
       "    <tr>\n",
       "      <th>3</th>\n",
       "      <td>유가증권시장</td>\n",
       "      <td>00141273</td>\n",
       "      <td>웰바이오텍</td>\n",
       "      <td></td>\n",
       "      <td>2020.06.15</td>\n",
       "      <td>18:46</td>\n",
       "      <td>20200615800641</td>\n",
       "      <td>2020.06.15</td>\n",
       "    </tr>\n",
       "    <tr>\n",
       "      <th>4</th>\n",
       "      <td>코스닥시장</td>\n",
       "      <td>00812362</td>\n",
       "      <td>포티스</td>\n",
       "      <td>기타시장안내(상장적격성실질심사관련안내)</td>\n",
       "      <td>2020.06.15</td>\n",
       "      <td>18:46</td>\n",
       "      <td>20200615900640</td>\n",
       "      <td>2020.06.15</td>\n",
       "    </tr>\n",
       "    <tr>\n",
       "      <th>...</th>\n",
       "      <td>...</td>\n",
       "      <td>...</td>\n",
       "      <td>...</td>\n",
       "      <td>...</td>\n",
       "      <td>...</td>\n",
       "      <td>...</td>\n",
       "      <td>...</td>\n",
       "      <td>...</td>\n",
       "    </tr>\n",
       "    <tr>\n",
       "      <th>326</th>\n",
       "      <td>기타법인</td>\n",
       "      <td>01292671</td>\n",
       "      <td>예스코</td>\n",
       "      <td>투자설명서</td>\n",
       "      <td>2020.06.15</td>\n",
       "      <td>18:46</td>\n",
       "      <td>20200615000001</td>\n",
       "      <td>2020.06.15</td>\n",
       "    </tr>\n",
       "    <tr>\n",
       "      <th>327</th>\n",
       "      <td>유가증권시장</td>\n",
       "      <td>00303873</td>\n",
       "      <td>CJ CGV</td>\n",
       "      <td>유상증자신주발행가액(안내공시)</td>\n",
       "      <td>2020.06.15</td>\n",
       "      <td>18:46</td>\n",
       "      <td>20200615800077</td>\n",
       "      <td>2020.06.15</td>\n",
       "    </tr>\n",
       "    <tr>\n",
       "      <th>328</th>\n",
       "      <td>유가증권시장</td>\n",
       "      <td>00126414</td>\n",
       "      <td>삼성제약</td>\n",
       "      <td>장래사업ㆍ경영계획(공정공시)</td>\n",
       "      <td>2020.06.15</td>\n",
       "      <td>18:46</td>\n",
       "      <td>20200615800001</td>\n",
       "      <td>2020.06.15</td>\n",
       "    </tr>\n",
       "    <tr>\n",
       "      <th>329</th>\n",
       "      <td>유가증권시장</td>\n",
       "      <td>00133706</td>\n",
       "      <td>세하</td>\n",
       "      <td>효력발생안내(2020.5.29.제출증권신고서(지분증권))</td>\n",
       "      <td>2020.06.15</td>\n",
       "      <td>18:46</td>\n",
       "      <td>20200529100042</td>\n",
       "      <td>2020.06.15</td>\n",
       "    </tr>\n",
       "    <tr>\n",
       "      <th>330</th>\n",
       "      <td>코스닥시장</td>\n",
       "      <td>01051472</td>\n",
       "      <td>젠큐릭스</td>\n",
       "      <td>[첨부정정]주요사항보고서(유상증자결정)</td>\n",
       "      <td>2020.06.15</td>\n",
       "      <td>18:46</td>\n",
       "      <td>20200612000515</td>\n",
       "      <td>2020.06.15</td>\n",
       "    </tr>\n",
       "  </tbody>\n",
       "</table>\n",
       "<p>331 rows × 8 columns</p>\n",
       "</div>"
      ],
      "text/plain": [
       "        cat      coID  comName                          content     pubDate  \\\n",
       "0      기타법인  00102760     두산건설                                   2020.06.15   \n",
       "1     코스닥시장  00116426       코센    [기재정정]주요사항보고서(타법인주식및출자증권양수결정)  2020.06.15   \n",
       "2     코스닥시장  00120906  에스아이리소스             주권매매거래정지기간변경(개선기간부여)  2020.06.15   \n",
       "3    유가증권시장  00141273    웰바이오텍                                   2020.06.15   \n",
       "4     코스닥시장  00812362      포티스            기타시장안내(상장적격성실질심사관련안내)  2020.06.15   \n",
       "..      ...       ...      ...                              ...         ...   \n",
       "326    기타법인  01292671      예스코                            투자설명서  2020.06.15   \n",
       "327  유가증권시장  00303873   CJ CGV                 유상증자신주발행가액(안내공시)  2020.06.15   \n",
       "328  유가증권시장  00126414     삼성제약                  장래사업ㆍ경영계획(공정공시)  2020.06.15   \n",
       "329  유가증권시장  00133706       세하  효력발생안내(2020.5.29.제출증권신고서(지분증권))  2020.06.15   \n",
       "330   코스닥시장  01051472     젠큐릭스            [첨부정정]주요사항보고서(유상증자결정)  2020.06.15   \n",
       "\n",
       "    pubTime           rcpNo     reqDate  \n",
       "0     18:46  20200615700648  2020.06.15  \n",
       "1     18:46  20200615000335  2020.06.16  \n",
       "2     18:46  20200615900642  2020.06.15  \n",
       "3     18:46  20200615800641  2020.06.15  \n",
       "4     18:46  20200615900640  2020.06.15  \n",
       "..      ...             ...         ...  \n",
       "326   18:46  20200615000001  2020.06.15  \n",
       "327   18:46  20200615800077  2020.06.15  \n",
       "328   18:46  20200615800001  2020.06.15  \n",
       "329   18:46  20200529100042  2020.06.15  \n",
       "330   18:46  20200612000515  2020.06.15  \n",
       "\n",
       "[331 rows x 8 columns]"
      ]
     },
     "execution_count": 100,
     "metadata": {},
     "output_type": "execute_result"
    }
   ],
   "source": [
    "dart_totalDF"
   ]
  },
  {
   "cell_type": "code",
   "execution_count": null,
   "metadata": {},
   "outputs": [],
   "source": []
  },
  {
   "cell_type": "markdown",
   "metadata": {},
   "source": [
    "## 주말, 공휴일은 어떻게 할까?\n",
    "\n",
    "#### 공휴일이면 공휴일이라고 결과값이 도출됩니다.\n"
   ]
  },
  {
   "cell_type": "code",
   "execution_count": 122,
   "metadata": {},
   "outputs": [
    {
     "name": "stdout",
     "output_type": "stream",
     "text": [
      "공휴일입니다.\n"
     ]
    }
   ],
   "source": [
    "from bs4 import BeautifulSoup as bs\n",
    "import requests\n",
    "import pandas as pd\n",
    "import re\n",
    "\n",
    "date =\"2020.06.28\"\n",
    "\n",
    "year = date.split(\".\")[0]\n",
    "month = date.split(\".\")[1]\n",
    "day = date.split(\".\")[2]\n",
    "\n",
    "\n",
    "basic_url = \"http://dart.fss.or.kr/dsac001/mainAll.do?selectDate=\"\n",
    "url_part = \"&sort=&series=&mdayCnt=&currentPage=\"\n",
    "url = basic_url + date + url_part\n",
    "req = requests.get(url)\n",
    "soup = bs(req.text, \"html.parser\")\n",
    "\n",
    "#전체개수 가져오기\n",
    "totNum = soup.find('p', class_=\"table_tit\").text.strip()\n",
    "\n",
    "\n",
    "totNum = re.sub(r\"전체\",\"\",totNum)\n",
    "totNum = re.sub(r\"\\r|\\n|\\t\",\"\",totNum)\n",
    "#totNum = int(re.sub(r\"건\\(2017년 03월 28일\\)\",\"\",totNum).strip())\n",
    "totNum = totNum.replace(\"건(\"+year+\"년 \"+month+\"월 \"+day+\"일)\",\"\").strip()\n",
    "total = \"\"\n",
    "for i in range(len(totNum.split(\",\"))):\n",
    "    total += totNum.split(\",\")[i]\n",
    "    \n",
    "total = total.replace(\"건\",\"\")\n",
    "totNum =int(total)\n",
    "\n",
    "#조건절돌리기\n",
    "if totNum ==0:\n",
    "    print(\"공휴일입니다.\")\n",
    "else:\n",
    "    dart_totalDF = pd.DataFrame()\n",
    "    dart_totalDF_temp = pd.DataFrame()\n",
    "\n",
    "    dart_totalDF_temp = dart_totalDF_temp.append({\"cat\":\"\",\"comName\":\"\",\"coID\":\"\",\"content\":\"\",\"rcpNo\":\"\",\"pubTime\":\"\",\"pubDate\":\"\",\"reqDate\":\"\"}, ignore_index=True)\n",
    "\n",
    "\n",
    "\n",
    "    #페이지수 가져오기\n",
    "    pageCount = (totNum//100)+1\n",
    "\n",
    "    for j in range(1,pageCount+1):\n",
    "        URL = url + str(j)\n",
    "        soup = bs(requests.get(URL).text,\"html.parser\")\n",
    "\n",
    "\n",
    "        for i in range(1, len(soup.find_all(\"tr\"))):\n",
    "            list_samp = soup.find_all(\"tr\")\n",
    "\n",
    "            cat_samp = list_samp[i].find('img').get('title')\n",
    "            comName_samp = list_samp[i].find(\"a\").text.strip()\n",
    "            coID_samp = re.findall(r\"[0-9]{8}\",list_samp[i].find_all(\"a\")[0].get(\"href\"))[0]\n",
    "\n",
    "            content_samp = list_samp[i].find_all('a')[1].text.strip()\n",
    "            content_samp = content_samp.replace(\"\\r\",\"\")\n",
    "            content_samp = content_samp.replace(\"\\n\",\"\")\n",
    "            content_samp = content_samp.replace(\"\\t\",\"\")\n",
    "            content_samp = content_samp.replace(\" \",\"\")\n",
    "            #print(content_samp)\n",
    "\n",
    "            pubTime = list_samp[i].find_all(\"td\", class_=\"cen_txt\")[0].text.strip()\n",
    "\n",
    "            rcpNo_samp = list_samp[i].find_all('td')[2].find(\"a\").get(\"href\")\n",
    "            rcpNo_samp = re.findall(r\"[0-9]{14}\",rcpNo_samp)[0]\n",
    "            pubDate_samp = date\n",
    "            reqDate_samp = list_samp[i].find_all('td', class_='cen_txt')[1].text\n",
    "\n",
    "\n",
    "            #df에 넣기\n",
    "            dart_totalDF_temp.iat[0,dart_totalDF_temp.columns.get_loc(\"cat\")] = cat_samp\n",
    "            dart_totalDF_temp.iat[0,dart_totalDF_temp.columns.get_loc(\"comName\")] = comName_samp\n",
    "            dart_totalDF_temp.iat[0,dart_totalDF_temp.columns.get_loc(\"coID\")] = coID_samp\n",
    "            dart_totalDF_temp.iat[0,dart_totalDF_temp.columns.get_loc(\"content\")] = content_samp\n",
    "            dart_totalDF_temp.iat[0,dart_totalDF_temp.columns.get_loc(\"rcpNo\")] = rcpNo_samp\n",
    "            dart_totalDF_temp.iat[0,dart_totalDF_temp.columns.get_loc(\"pubTime\")] = pubTime_samp\n",
    "            dart_totalDF_temp.iat[0,dart_totalDF_temp.columns.get_loc(\"pubDate\")] = pubDate_samp\n",
    "            dart_totalDF_temp.iat[0,dart_totalDF_temp.columns.get_loc(\"reqDate\")] = reqDate_samp\n",
    "\n",
    "            dart_totalDF = dart_totalDF.append(dart_totalDF_temp, ignore_index = True)\n",
    "\n",
    "\n",
    "            dart_totalDF_temp.drop(0)\n",
    "\n",
    "\n",
    "\n",
    "\n",
    "\n",
    "\n",
    "\n"
   ]
  },
  {
   "cell_type": "code",
   "execution_count": null,
   "metadata": {},
   "outputs": [],
   "source": []
  },
  {
   "cell_type": "code",
   "execution_count": null,
   "metadata": {},
   "outputs": [],
   "source": []
  },
  {
   "cell_type": "markdown",
   "metadata": {},
   "source": [
    "### 날짜별로 DF가져오기"
   ]
  },
  {
   "cell_type": "code",
   "execution_count": 158,
   "metadata": {
    "scrolled": false
   },
   "outputs": [
    {
     "name": "stdout",
     "output_type": "stream",
     "text": [
      "(6월기준)시작날짜를 입력하세요1\n",
      "(6월기준)마지막날짜를 입력하세요30\n",
      "http://dart.fss.or.kr/dsac001/mainAll.do?selectDate=2020.06.01&sort=&series=&mdayCnt=&currentPage=1\n",
      "http://dart.fss.or.kr/dsac001/mainAll.do?selectDate=2020.06.01&sort=&series=&mdayCnt=&currentPage=2\n",
      "http://dart.fss.or.kr/dsac001/mainAll.do?selectDate=2020.06.01&sort=&series=&mdayCnt=&currentPage=3\n",
      "http://dart.fss.or.kr/dsac001/mainAll.do?selectDate=2020.06.01&sort=&series=&mdayCnt=&currentPage=4\n",
      "http://dart.fss.or.kr/dsac001/mainAll.do?selectDate=2020.06.01&sort=&series=&mdayCnt=&currentPage=5\n",
      "http://dart.fss.or.kr/dsac001/mainAll.do?selectDate=2020.06.01&sort=&series=&mdayCnt=&currentPage=6\n",
      "http://dart.fss.or.kr/dsac001/mainAll.do?selectDate=2020.06.01&sort=&series=&mdayCnt=&currentPage=7\n",
      "http://dart.fss.or.kr/dsac001/mainAll.do?selectDate=2020.06.01&sort=&series=&mdayCnt=&currentPage=8\n",
      "http://dart.fss.or.kr/dsac001/mainAll.do?selectDate=2020.06.01&sort=&series=&mdayCnt=&currentPage=9\n",
      "http://dart.fss.or.kr/dsac001/mainAll.do?selectDate=2020.06.01&sort=&series=&mdayCnt=&currentPage=10\n",
      "2020.06.01 완료!\n",
      "937 데이터 입력완료\n",
      "http://dart.fss.or.kr/dsac001/mainAll.do?selectDate=2020.06.02&sort=&series=&mdayCnt=&currentPage=1\n",
      "http://dart.fss.or.kr/dsac001/mainAll.do?selectDate=2020.06.02&sort=&series=&mdayCnt=&currentPage=2\n",
      "http://dart.fss.or.kr/dsac001/mainAll.do?selectDate=2020.06.02&sort=&series=&mdayCnt=&currentPage=3\n",
      "2020.06.02 완료!\n",
      "237 데이터 입력완료\n",
      "http://dart.fss.or.kr/dsac001/mainAll.do?selectDate=2020.06.03&sort=&series=&mdayCnt=&currentPage=1\n",
      "http://dart.fss.or.kr/dsac001/mainAll.do?selectDate=2020.06.03&sort=&series=&mdayCnt=&currentPage=2\n",
      "http://dart.fss.or.kr/dsac001/mainAll.do?selectDate=2020.06.03&sort=&series=&mdayCnt=&currentPage=3\n",
      "2020.06.03 완료!\n",
      "243 데이터 입력완료\n",
      "http://dart.fss.or.kr/dsac001/mainAll.do?selectDate=2020.06.04&sort=&series=&mdayCnt=&currentPage=1\n",
      "http://dart.fss.or.kr/dsac001/mainAll.do?selectDate=2020.06.04&sort=&series=&mdayCnt=&currentPage=2\n",
      "http://dart.fss.or.kr/dsac001/mainAll.do?selectDate=2020.06.04&sort=&series=&mdayCnt=&currentPage=3\n",
      "2020.06.04 완료!\n",
      "265 데이터 입력완료\n",
      "http://dart.fss.or.kr/dsac001/mainAll.do?selectDate=2020.06.05&sort=&series=&mdayCnt=&currentPage=1\n",
      "http://dart.fss.or.kr/dsac001/mainAll.do?selectDate=2020.06.05&sort=&series=&mdayCnt=&currentPage=2\n",
      "http://dart.fss.or.kr/dsac001/mainAll.do?selectDate=2020.06.05&sort=&series=&mdayCnt=&currentPage=3\n",
      "http://dart.fss.or.kr/dsac001/mainAll.do?selectDate=2020.06.05&sort=&series=&mdayCnt=&currentPage=4\n",
      "2020.06.05 완료!\n",
      "321 데이터 입력완료\n",
      "2020.06.06 는 공휴일입니다.\n",
      "2020.06.07 는 공휴일입니다.\n",
      "http://dart.fss.or.kr/dsac001/mainAll.do?selectDate=2020.06.08&sort=&series=&mdayCnt=&currentPage=1\n",
      "http://dart.fss.or.kr/dsac001/mainAll.do?selectDate=2020.06.08&sort=&series=&mdayCnt=&currentPage=2\n",
      "http://dart.fss.or.kr/dsac001/mainAll.do?selectDate=2020.06.08&sort=&series=&mdayCnt=&currentPage=3\n",
      "2020.06.08 완료!\n",
      "286 데이터 입력완료\n",
      "http://dart.fss.or.kr/dsac001/mainAll.do?selectDate=2020.06.09&sort=&series=&mdayCnt=&currentPage=1\n",
      "http://dart.fss.or.kr/dsac001/mainAll.do?selectDate=2020.06.09&sort=&series=&mdayCnt=&currentPage=2\n",
      "http://dart.fss.or.kr/dsac001/mainAll.do?selectDate=2020.06.09&sort=&series=&mdayCnt=&currentPage=3\n",
      "2020.06.09 완료!\n",
      "232 데이터 입력완료\n",
      "http://dart.fss.or.kr/dsac001/mainAll.do?selectDate=2020.06.10&sort=&series=&mdayCnt=&currentPage=1\n",
      "http://dart.fss.or.kr/dsac001/mainAll.do?selectDate=2020.06.10&sort=&series=&mdayCnt=&currentPage=2\n",
      "http://dart.fss.or.kr/dsac001/mainAll.do?selectDate=2020.06.10&sort=&series=&mdayCnt=&currentPage=3\n",
      "2020.06.10 완료!\n",
      "244 데이터 입력완료\n",
      "http://dart.fss.or.kr/dsac001/mainAll.do?selectDate=2020.06.11&sort=&series=&mdayCnt=&currentPage=1\n",
      "http://dart.fss.or.kr/dsac001/mainAll.do?selectDate=2020.06.11&sort=&series=&mdayCnt=&currentPage=2\n",
      "http://dart.fss.or.kr/dsac001/mainAll.do?selectDate=2020.06.11&sort=&series=&mdayCnt=&currentPage=3\n",
      "http://dart.fss.or.kr/dsac001/mainAll.do?selectDate=2020.06.11&sort=&series=&mdayCnt=&currentPage=4\n",
      "2020.06.11 완료!\n",
      "397 데이터 입력완료\n",
      "http://dart.fss.or.kr/dsac001/mainAll.do?selectDate=2020.06.12&sort=&series=&mdayCnt=&currentPage=1\n",
      "http://dart.fss.or.kr/dsac001/mainAll.do?selectDate=2020.06.12&sort=&series=&mdayCnt=&currentPage=2\n",
      "http://dart.fss.or.kr/dsac001/mainAll.do?selectDate=2020.06.12&sort=&series=&mdayCnt=&currentPage=3\n",
      "http://dart.fss.or.kr/dsac001/mainAll.do?selectDate=2020.06.12&sort=&series=&mdayCnt=&currentPage=4\n",
      "2020.06.12 완료!\n",
      "376 데이터 입력완료\n",
      "2020.06.13 는 공휴일입니다.\n",
      "2020.06.14 는 공휴일입니다.\n",
      "http://dart.fss.or.kr/dsac001/mainAll.do?selectDate=2020.06.15&sort=&series=&mdayCnt=&currentPage=1\n",
      "http://dart.fss.or.kr/dsac001/mainAll.do?selectDate=2020.06.15&sort=&series=&mdayCnt=&currentPage=2\n",
      "http://dart.fss.or.kr/dsac001/mainAll.do?selectDate=2020.06.15&sort=&series=&mdayCnt=&currentPage=3\n",
      "http://dart.fss.or.kr/dsac001/mainAll.do?selectDate=2020.06.15&sort=&series=&mdayCnt=&currentPage=4\n",
      "2020.06.15 완료!\n",
      "331 데이터 입력완료\n",
      "http://dart.fss.or.kr/dsac001/mainAll.do?selectDate=2020.06.16&sort=&series=&mdayCnt=&currentPage=1\n",
      "http://dart.fss.or.kr/dsac001/mainAll.do?selectDate=2020.06.16&sort=&series=&mdayCnt=&currentPage=2\n",
      "http://dart.fss.or.kr/dsac001/mainAll.do?selectDate=2020.06.16&sort=&series=&mdayCnt=&currentPage=3\n",
      "2020.06.16 완료!\n",
      "250 데이터 입력완료\n",
      "http://dart.fss.or.kr/dsac001/mainAll.do?selectDate=2020.06.17&sort=&series=&mdayCnt=&currentPage=1\n",
      "http://dart.fss.or.kr/dsac001/mainAll.do?selectDate=2020.06.17&sort=&series=&mdayCnt=&currentPage=2\n",
      "http://dart.fss.or.kr/dsac001/mainAll.do?selectDate=2020.06.17&sort=&series=&mdayCnt=&currentPage=3\n",
      "http://dart.fss.or.kr/dsac001/mainAll.do?selectDate=2020.06.17&sort=&series=&mdayCnt=&currentPage=4\n",
      "2020.06.17 완료!\n",
      "307 데이터 입력완료\n",
      "http://dart.fss.or.kr/dsac001/mainAll.do?selectDate=2020.06.18&sort=&series=&mdayCnt=&currentPage=1\n",
      "http://dart.fss.or.kr/dsac001/mainAll.do?selectDate=2020.06.18&sort=&series=&mdayCnt=&currentPage=2\n",
      "http://dart.fss.or.kr/dsac001/mainAll.do?selectDate=2020.06.18&sort=&series=&mdayCnt=&currentPage=3\n",
      "2020.06.18 완료!\n",
      "282 데이터 입력완료\n",
      "http://dart.fss.or.kr/dsac001/mainAll.do?selectDate=2020.06.19&sort=&series=&mdayCnt=&currentPage=1\n",
      "http://dart.fss.or.kr/dsac001/mainAll.do?selectDate=2020.06.19&sort=&series=&mdayCnt=&currentPage=2\n",
      "http://dart.fss.or.kr/dsac001/mainAll.do?selectDate=2020.06.19&sort=&series=&mdayCnt=&currentPage=3\n",
      "http://dart.fss.or.kr/dsac001/mainAll.do?selectDate=2020.06.19&sort=&series=&mdayCnt=&currentPage=4\n",
      "http://dart.fss.or.kr/dsac001/mainAll.do?selectDate=2020.06.19&sort=&series=&mdayCnt=&currentPage=5\n",
      "2020.06.19 완료!\n",
      "454 데이터 입력완료\n",
      "2020.06.20 는 공휴일입니다.\n",
      "2020.06.21 는 공휴일입니다.\n",
      "http://dart.fss.or.kr/dsac001/mainAll.do?selectDate=2020.06.22&sort=&series=&mdayCnt=&currentPage=1\n",
      "http://dart.fss.or.kr/dsac001/mainAll.do?selectDate=2020.06.22&sort=&series=&mdayCnt=&currentPage=2\n",
      "http://dart.fss.or.kr/dsac001/mainAll.do?selectDate=2020.06.22&sort=&series=&mdayCnt=&currentPage=3\n",
      "http://dart.fss.or.kr/dsac001/mainAll.do?selectDate=2020.06.22&sort=&series=&mdayCnt=&currentPage=4\n",
      "2020.06.22 완료!\n",
      "320 데이터 입력완료\n",
      "http://dart.fss.or.kr/dsac001/mainAll.do?selectDate=2020.06.23&sort=&series=&mdayCnt=&currentPage=1\n",
      "http://dart.fss.or.kr/dsac001/mainAll.do?selectDate=2020.06.23&sort=&series=&mdayCnt=&currentPage=2\n",
      "http://dart.fss.or.kr/dsac001/mainAll.do?selectDate=2020.06.23&sort=&series=&mdayCnt=&currentPage=3\n",
      "http://dart.fss.or.kr/dsac001/mainAll.do?selectDate=2020.06.23&sort=&series=&mdayCnt=&currentPage=4\n",
      "2020.06.23 완료!\n",
      "307 데이터 입력완료\n",
      "http://dart.fss.or.kr/dsac001/mainAll.do?selectDate=2020.06.24&sort=&series=&mdayCnt=&currentPage=1\n",
      "http://dart.fss.or.kr/dsac001/mainAll.do?selectDate=2020.06.24&sort=&series=&mdayCnt=&currentPage=2\n",
      "http://dart.fss.or.kr/dsac001/mainAll.do?selectDate=2020.06.24&sort=&series=&mdayCnt=&currentPage=3\n",
      "http://dart.fss.or.kr/dsac001/mainAll.do?selectDate=2020.06.24&sort=&series=&mdayCnt=&currentPage=4\n",
      "2020.06.24 완료!\n",
      "307 데이터 입력완료\n",
      "http://dart.fss.or.kr/dsac001/mainAll.do?selectDate=2020.06.25&sort=&series=&mdayCnt=&currentPage=1\n",
      "http://dart.fss.or.kr/dsac001/mainAll.do?selectDate=2020.06.25&sort=&series=&mdayCnt=&currentPage=2\n",
      "http://dart.fss.or.kr/dsac001/mainAll.do?selectDate=2020.06.25&sort=&series=&mdayCnt=&currentPage=3\n",
      "http://dart.fss.or.kr/dsac001/mainAll.do?selectDate=2020.06.25&sort=&series=&mdayCnt=&currentPage=4\n",
      "http://dart.fss.or.kr/dsac001/mainAll.do?selectDate=2020.06.25&sort=&series=&mdayCnt=&currentPage=5\n",
      "2020.06.25 완료!\n",
      "409 데이터 입력완료\n"
     ]
    },
    {
     "name": "stdout",
     "output_type": "stream",
     "text": [
      "http://dart.fss.or.kr/dsac001/mainAll.do?selectDate=2020.06.26&sort=&series=&mdayCnt=&currentPage=1\n",
      "http://dart.fss.or.kr/dsac001/mainAll.do?selectDate=2020.06.26&sort=&series=&mdayCnt=&currentPage=2\n",
      "http://dart.fss.or.kr/dsac001/mainAll.do?selectDate=2020.06.26&sort=&series=&mdayCnt=&currentPage=3\n",
      "http://dart.fss.or.kr/dsac001/mainAll.do?selectDate=2020.06.26&sort=&series=&mdayCnt=&currentPage=4\n",
      "http://dart.fss.or.kr/dsac001/mainAll.do?selectDate=2020.06.26&sort=&series=&mdayCnt=&currentPage=5\n",
      "http://dart.fss.or.kr/dsac001/mainAll.do?selectDate=2020.06.26&sort=&series=&mdayCnt=&currentPage=6\n",
      "http://dart.fss.or.kr/dsac001/mainAll.do?selectDate=2020.06.26&sort=&series=&mdayCnt=&currentPage=7\n",
      "2020.06.26 완료!\n",
      "607 데이터 입력완료\n",
      "2020.06.27 는 공휴일입니다.\n",
      "2020.06.28 는 공휴일입니다.\n",
      "http://dart.fss.or.kr/dsac001/mainAll.do?selectDate=2020.06.29&sort=&series=&mdayCnt=&currentPage=1\n",
      "http://dart.fss.or.kr/dsac001/mainAll.do?selectDate=2020.06.29&sort=&series=&mdayCnt=&currentPage=2\n",
      "http://dart.fss.or.kr/dsac001/mainAll.do?selectDate=2020.06.29&sort=&series=&mdayCnt=&currentPage=3\n",
      "http://dart.fss.or.kr/dsac001/mainAll.do?selectDate=2020.06.29&sort=&series=&mdayCnt=&currentPage=4\n",
      "http://dart.fss.or.kr/dsac001/mainAll.do?selectDate=2020.06.29&sort=&series=&mdayCnt=&currentPage=5\n",
      "2020.06.29 완료!\n",
      "487 데이터 입력완료\n",
      "http://dart.fss.or.kr/dsac001/mainAll.do?selectDate=2020.06.30&sort=&series=&mdayCnt=&currentPage=1\n",
      "http://dart.fss.or.kr/dsac001/mainAll.do?selectDate=2020.06.30&sort=&series=&mdayCnt=&currentPage=2\n",
      "http://dart.fss.or.kr/dsac001/mainAll.do?selectDate=2020.06.30&sort=&series=&mdayCnt=&currentPage=3\n",
      "http://dart.fss.or.kr/dsac001/mainAll.do?selectDate=2020.06.30&sort=&series=&mdayCnt=&currentPage=4\n",
      "http://dart.fss.or.kr/dsac001/mainAll.do?selectDate=2020.06.30&sort=&series=&mdayCnt=&currentPage=5\n",
      "http://dart.fss.or.kr/dsac001/mainAll.do?selectDate=2020.06.30&sort=&series=&mdayCnt=&currentPage=6\n",
      "http://dart.fss.or.kr/dsac001/mainAll.do?selectDate=2020.06.30&sort=&series=&mdayCnt=&currentPage=7\n",
      "http://dart.fss.or.kr/dsac001/mainAll.do?selectDate=2020.06.30&sort=&series=&mdayCnt=&currentPage=8\n",
      "2020.06.30 완료!\n",
      "754 데이터 입력완료\n"
     ]
    },
    {
     "data": {
      "text/html": [
       "<div>\n",
       "<style scoped>\n",
       "    .dataframe tbody tr th:only-of-type {\n",
       "        vertical-align: middle;\n",
       "    }\n",
       "\n",
       "    .dataframe tbody tr th {\n",
       "        vertical-align: top;\n",
       "    }\n",
       "\n",
       "    .dataframe thead th {\n",
       "        text-align: right;\n",
       "    }\n",
       "</style>\n",
       "<table border=\"1\" class=\"dataframe\">\n",
       "  <thead>\n",
       "    <tr style=\"text-align: right;\">\n",
       "      <th></th>\n",
       "      <th>cat</th>\n",
       "      <th>coID</th>\n",
       "      <th>comName</th>\n",
       "      <th>content</th>\n",
       "      <th>pubDate</th>\n",
       "      <th>pubTime</th>\n",
       "      <th>rcpNo</th>\n",
       "      <th>reqDate</th>\n",
       "    </tr>\n",
       "  </thead>\n",
       "  <tbody>\n",
       "    <tr>\n",
       "      <th>0</th>\n",
       "      <td>코스닥시장</td>\n",
       "      <td>00872452</td>\n",
       "      <td>에이치엔티</td>\n",
       "      <td>[기재정정]타인에대한담보제공결정</td>\n",
       "      <td>2020.06.01</td>\n",
       "      <td>17:30</td>\n",
       "      <td>20200601900721</td>\n",
       "      <td>2020.06.01</td>\n",
       "    </tr>\n",
       "    <tr>\n",
       "      <th>1</th>\n",
       "      <td>코스닥시장</td>\n",
       "      <td>00479705</td>\n",
       "      <td>EMW</td>\n",
       "      <td>[기재정정]감사보고서제출</td>\n",
       "      <td>2020.06.01</td>\n",
       "      <td>17:30</td>\n",
       "      <td>20200601900720</td>\n",
       "      <td>2020.06.01</td>\n",
       "    </tr>\n",
       "    <tr>\n",
       "      <th>2</th>\n",
       "      <td>코스닥시장</td>\n",
       "      <td>00479705</td>\n",
       "      <td>EMW</td>\n",
       "      <td>[첨부정정]감사보고서제출</td>\n",
       "      <td>2020.06.01</td>\n",
       "      <td>17:30</td>\n",
       "      <td>20200601900719</td>\n",
       "      <td>2020.06.01</td>\n",
       "    </tr>\n",
       "    <tr>\n",
       "      <th>3</th>\n",
       "      <td>코스닥시장</td>\n",
       "      <td>00479705</td>\n",
       "      <td>EMW</td>\n",
       "      <td>[기재정정]감사보고서제출</td>\n",
       "      <td>2020.06.01</td>\n",
       "      <td>17:30</td>\n",
       "      <td>20200601900718</td>\n",
       "      <td>2020.06.01</td>\n",
       "    </tr>\n",
       "    <tr>\n",
       "      <th>4</th>\n",
       "      <td>코스닥시장</td>\n",
       "      <td>00136101</td>\n",
       "      <td>메이슨캐피탈</td>\n",
       "      <td>불성실공시법인지정(공시불이행)</td>\n",
       "      <td>2020.06.01</td>\n",
       "      <td>17:30</td>\n",
       "      <td>20200601900717</td>\n",
       "      <td>2020.06.01</td>\n",
       "    </tr>\n",
       "    <tr>\n",
       "      <th>...</th>\n",
       "      <td>...</td>\n",
       "      <td>...</td>\n",
       "      <td>...</td>\n",
       "      <td>...</td>\n",
       "      <td>...</td>\n",
       "      <td>...</td>\n",
       "      <td>...</td>\n",
       "      <td>...</td>\n",
       "    </tr>\n",
       "    <tr>\n",
       "      <th>8348</th>\n",
       "      <td>유가증권시장</td>\n",
       "      <td>00126566</td>\n",
       "      <td>한화에어로스페이스</td>\n",
       "      <td>기타경영사항(자율공시)(종속회사의주요경영사항)</td>\n",
       "      <td>2020.06.30</td>\n",
       "      <td>17:30</td>\n",
       "      <td>20200630800071</td>\n",
       "      <td>2020.06.30</td>\n",
       "    </tr>\n",
       "    <tr>\n",
       "      <th>8349</th>\n",
       "      <td>기타법인</td>\n",
       "      <td>01113648</td>\n",
       "      <td>에코시티개발</td>\n",
       "      <td>동일인등출자계열회사와의상품ㆍ용역거래</td>\n",
       "      <td>2020.06.30</td>\n",
       "      <td>17:30</td>\n",
       "      <td>20200630000001</td>\n",
       "      <td>2020.06.30</td>\n",
       "    </tr>\n",
       "    <tr>\n",
       "      <th>8350</th>\n",
       "      <td>코스닥시장</td>\n",
       "      <td>00366845</td>\n",
       "      <td>탑엔지니어링</td>\n",
       "      <td>[기재정정]단일판매ㆍ공급계약체결(자율공시)</td>\n",
       "      <td>2020.06.30</td>\n",
       "      <td>17:30</td>\n",
       "      <td>20200630900001</td>\n",
       "      <td>2020.06.30</td>\n",
       "    </tr>\n",
       "    <tr>\n",
       "      <th>8351</th>\n",
       "      <td>기타법인</td>\n",
       "      <td>01440481</td>\n",
       "      <td>아이비케이에스제13호기업인수목적</td>\n",
       "      <td>효력발생안내(2020.6.8.제출증권신고서(지분증권))</td>\n",
       "      <td>2020.06.30</td>\n",
       "      <td>17:30</td>\n",
       "      <td>20200608100006</td>\n",
       "      <td>2020.06.30</td>\n",
       "    </tr>\n",
       "    <tr>\n",
       "      <th>8352</th>\n",
       "      <td>기타법인</td>\n",
       "      <td>00697611</td>\n",
       "      <td>와이디생명과학</td>\n",
       "      <td>효력발생안내(2020.6.18.제출증권신고서(지분증권))</td>\n",
       "      <td>2020.06.30</td>\n",
       "      <td>17:30</td>\n",
       "      <td>20200618100050</td>\n",
       "      <td>2020.06.30</td>\n",
       "    </tr>\n",
       "  </tbody>\n",
       "</table>\n",
       "<p>8353 rows × 8 columns</p>\n",
       "</div>"
      ],
      "text/plain": [
       "         cat      coID            comName                          content  \\\n",
       "0      코스닥시장  00872452              에이치엔티                [기재정정]타인에대한담보제공결정   \n",
       "1      코스닥시장  00479705                EMW                    [기재정정]감사보고서제출   \n",
       "2      코스닥시장  00479705                EMW                    [첨부정정]감사보고서제출   \n",
       "3      코스닥시장  00479705                EMW                    [기재정정]감사보고서제출   \n",
       "4      코스닥시장  00136101             메이슨캐피탈                 불성실공시법인지정(공시불이행)   \n",
       "...      ...       ...                ...                              ...   \n",
       "8348  유가증권시장  00126566          한화에어로스페이스        기타경영사항(자율공시)(종속회사의주요경영사항)   \n",
       "8349    기타법인  01113648             에코시티개발              동일인등출자계열회사와의상품ㆍ용역거래   \n",
       "8350   코스닥시장  00366845             탑엔지니어링          [기재정정]단일판매ㆍ공급계약체결(자율공시)   \n",
       "8351    기타법인  01440481  아이비케이에스제13호기업인수목적   효력발생안내(2020.6.8.제출증권신고서(지분증권))   \n",
       "8352    기타법인  00697611            와이디생명과학  효력발생안내(2020.6.18.제출증권신고서(지분증권))   \n",
       "\n",
       "         pubDate pubTime           rcpNo     reqDate  \n",
       "0     2020.06.01   17:30  20200601900721  2020.06.01  \n",
       "1     2020.06.01   17:30  20200601900720  2020.06.01  \n",
       "2     2020.06.01   17:30  20200601900719  2020.06.01  \n",
       "3     2020.06.01   17:30  20200601900718  2020.06.01  \n",
       "4     2020.06.01   17:30  20200601900717  2020.06.01  \n",
       "...          ...     ...             ...         ...  \n",
       "8348  2020.06.30   17:30  20200630800071  2020.06.30  \n",
       "8349  2020.06.30   17:30  20200630000001  2020.06.30  \n",
       "8350  2020.06.30   17:30  20200630900001  2020.06.30  \n",
       "8351  2020.06.30   17:30  20200608100006  2020.06.30  \n",
       "8352  2020.06.30   17:30  20200618100050  2020.06.30  \n",
       "\n",
       "[8353 rows x 8 columns]"
      ]
     },
     "execution_count": 158,
     "metadata": {},
     "output_type": "execute_result"
    }
   ],
   "source": [
    "from bs4 import BeautifulSoup as bs\n",
    "import requests\n",
    "import pandas as pd\n",
    "import re\n",
    "\n",
    "date_new = \"2020.06.\"\n",
    "\n",
    "startDay = int(input(\"(6월기준)시작날짜를 입력하세요\"))\n",
    "endDay = int(input(\"(6월기준)마지막날짜를 입력하세요\"))\n",
    "\n",
    "dart_totalDF = pd.DataFrame()\n",
    "dart_totalDF_temp = pd.DataFrame()\n",
    "\n",
    "dart_totalDF_temp = dart_totalDF_temp.append({\"cat\":\"\",\"comName\":\"\",\"coID\":\"\",\"content\":\"\",\"rcpNo\":\"\",\"pubTime\":\"\",\"pubDate\":\"\",\"reqDate\":\"\"}, ignore_index=True)\n",
    "\n",
    "\n",
    "\n",
    "for i in range(startDay,endDay+1):\n",
    "    #zfill()\n",
    "    day = str(i).zfill(2)\n",
    "    dat = date_new+day\n",
    "    \n",
    "    year = dat.split(\".\")[0]\n",
    "    month = dat.split(\".\")[1]\n",
    "    day = dat.split(\".\")[2]\n",
    "\n",
    "\n",
    "    basic_url = \"http://dart.fss.or.kr/dsac001/mainAll.do?selectDate=\"\n",
    "    url_part = \"&sort=&series=&mdayCnt=&currentPage=\"\n",
    "    url = basic_url + dat + url_part\n",
    "    \n",
    "    \n",
    "    req = requests.get(url)\n",
    "    soup = bs(req.text, \"html.parser\")\n",
    "\n",
    "    #전체개수 가져오기\n",
    "    totNum = soup.find('p', class_=\"table_tit\").text.strip()\n",
    "\n",
    "\n",
    "    totNum = re.sub(r\"전체\",\"\",totNum)\n",
    "    totNum = re.sub(r\"\\r|\\n|\\t\",\"\",totNum)\n",
    "    #totNum = int(re.sub(r\"건\\(2017년 03월 28일\\)\",\"\",totNum).strip())\n",
    "    totNum = totNum.replace(\"건(\"+year+\"년 \"+month+\"월 \"+day+\"일)\",\"\").strip()\n",
    "    total = \"\"\n",
    "    for i in range(len(totNum.split(\",\"))):\n",
    "        total += totNum.split(\",\")[i]\n",
    "    \n",
    "    total = total.replace(\"건\",\"\")\n",
    "    totNum =int(total)\n",
    "\n",
    "    #조건절돌리기(공휴일은 스킵!)\n",
    "    if totNum == 0:\n",
    "        print(dat,\"는 공휴일입니다.\")\n",
    "        continue\n",
    "        \n",
    "    else:\n",
    "\n",
    "\n",
    "        #페이지수 가져오기\n",
    "        pageCount = (totNum//100)+1\n",
    "\n",
    "        for j in range(1,pageCount+1):\n",
    "            URL = url + str(j)\n",
    "            print(URL)\n",
    "            soup = bs(requests.get(URL).text,\"html.parser\")\n",
    "\n",
    "\n",
    "            for i in range(1, len(soup.find_all(\"tr\"))):\n",
    "                list_samp = soup.find_all(\"tr\")\n",
    "\n",
    "                cat_samp = list_samp[i].find('img').get('title')\n",
    "                comName_samp = list_samp[i].find(\"a\").text.strip()\n",
    "                coID_samp = re.findall(r\"[0-9]{8}\",list_samp[i].find_all(\"a\")[0].get(\"href\"))[0]\n",
    "\n",
    "                content_samp = list_samp[i].find_all('a')[1].text.strip()\n",
    "                content_samp = content_samp.replace(\"\\r\",\"\")\n",
    "                content_samp = content_samp.replace(\"\\n\",\"\")\n",
    "                content_samp = content_samp.replace(\"\\t\",\"\")\n",
    "                content_samp = content_samp.replace(\" \",\"\")\n",
    "                #print(content_samp)\n",
    "\n",
    "                pubTime = list_samp[i].find_all(\"td\", class_=\"cen_txt\")[0].text.strip()\n",
    "\n",
    "                rcpNo_samp = list_samp[i].find_all('td')[2].find(\"a\").get(\"href\")\n",
    "                rcpNo_samp = re.findall(r\"[0-9]{14}\",rcpNo_samp)[0]\n",
    "                pubDate_samp = dat\n",
    "                reqDate_samp = list_samp[i].find_all('td', class_='cen_txt')[1].text\n",
    "\n",
    "\n",
    "                #df에 넣기\n",
    "                dart_totalDF_temp.iat[0,dart_totalDF_temp.columns.get_loc(\"cat\")] = cat_samp\n",
    "                dart_totalDF_temp.iat[0,dart_totalDF_temp.columns.get_loc(\"comName\")] = comName_samp\n",
    "                dart_totalDF_temp.iat[0,dart_totalDF_temp.columns.get_loc(\"coID\")] = coID_samp\n",
    "                dart_totalDF_temp.iat[0,dart_totalDF_temp.columns.get_loc(\"content\")] = content_samp\n",
    "                dart_totalDF_temp.iat[0,dart_totalDF_temp.columns.get_loc(\"rcpNo\")] = rcpNo_samp\n",
    "                dart_totalDF_temp.iat[0,dart_totalDF_temp.columns.get_loc(\"pubTime\")] = pubTime_samp\n",
    "                dart_totalDF_temp.iat[0,dart_totalDF_temp.columns.get_loc(\"pubDate\")] = pubDate_samp\n",
    "                dart_totalDF_temp.iat[0,dart_totalDF_temp.columns.get_loc(\"reqDate\")] = reqDate_samp\n",
    "\n",
    "                dart_totalDF = dart_totalDF.append(dart_totalDF_temp, ignore_index = True)\n",
    "\n",
    "\n",
    "                dart_totalDF_temp.drop(0)\n",
    "                \n",
    "    print(dat+\" 완료!\")\n",
    "    print(str(totNum),\"데이터 입력완료\")\n",
    "\n",
    "\n",
    "\n",
    "\n",
    "\n",
    "\n",
    "dart_totalDF.to_excel(\"totalDF.xlsx\",sheet_name=\"2020_06\")\n",
    "dart_totalDF"
   ]
  },
  {
   "cell_type": "markdown",
   "metadata": {},
   "source": [
    "### 날짜별 데이터 가져오기 _ver2"
   ]
  },
  {
   "cell_type": "markdown",
   "metadata": {},
   "source": []
  },
  {
   "cell_type": "code",
   "execution_count": null,
   "metadata": {},
   "outputs": [],
   "source": []
  },
  {
   "cell_type": "code",
   "execution_count": null,
   "metadata": {},
   "outputs": [],
   "source": []
  }
 ],
 "metadata": {
  "kernelspec": {
   "display_name": "Python 3",
   "language": "python",
   "name": "python3"
  },
  "language_info": {
   "codemirror_mode": {
    "name": "ipython",
    "version": 3
   },
   "file_extension": ".py",
   "mimetype": "text/x-python",
   "name": "python",
   "nbconvert_exporter": "python",
   "pygments_lexer": "ipython3",
   "version": "3.7.6"
  }
 },
 "nbformat": 4,
 "nbformat_minor": 4
}
